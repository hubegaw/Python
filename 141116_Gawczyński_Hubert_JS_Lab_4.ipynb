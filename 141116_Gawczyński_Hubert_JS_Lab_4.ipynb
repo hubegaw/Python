{
 "cells": [
  {
   "cell_type": "markdown",
   "metadata": {
    "deletable": false,
    "editable": false,
    "nbgrader": {
     "cell_type": "markdown",
     "checksum": "cb243103c6ebccd75219760a449bf042",
     "grade": false,
     "grade_id": "cell-26614cab1c00933b",
     "locked": true,
     "schema_version": 3,
     "solution": false,
     "task": false
    }
   },
   "source": [
    "# Języki symboliczne - rok akademicki 2021/2022\n",
    "\n",
    "Przed rozpoczęciem pracy z notatnikiem zmień jego nazwę zgodnie z wzorem: `NrAlbumu_Nazwisko_Imie_PoprzedniaNazwa`\n",
    "\n",
    "Przed wysłaniem notatnika **upewnij się jeszcze raz** że zmieniłeś nazwę i że rozwiązałeś wszystkie zadania/ćwiczenia, w szczególności, że uzupełniłeś wszystkie pola `YOUR CODE HERE` oraz `YOUR ANSWER HERE`."
   ]
  },
  {
   "cell_type": "markdown",
   "metadata": {
    "deletable": false,
    "editable": false,
    "nbgrader": {
     "cell_type": "markdown",
     "checksum": "de74cf3138542217ef8389408bd8ff19",
     "grade": false,
     "grade_id": "cell-51d5c973082f0959",
     "locked": true,
     "schema_version": 3,
     "solution": false
    }
   },
   "source": [
    "# Temat: Krotki. Zbiory. Słowniki.\n",
    "Zapoznaj się z treścią niniejszego notatnika czytając i wykonując go komórka po komórce. Wykonaj napotkane zadania/ćwiczenia.\n",
    "\n",
    "## Krotki\n",
    "\n",
    "\n",
    "- Krotka to nowy typ zmiennych: `tuple`. \n",
    "- Typ `immutable` - niemutowalny.\n",
    "- Składają się z pewnej liczby elementów oddzielonych przecinkiem, można je ująć w nawiasy `()` (czasami jest to wręcz konieczne gdy np. występują zagnieżdżenia lub jeśli stosujemy je w wyrażeniach).\n",
    "- Mają wiele zastosowań (np. jako para współrzędnych `(x,y)`, rekord pracowników z bazy danych itd.)\n",
    "- Nie jest możliwe przypisanie poszczególnym elementom takiej listy wartości, aczkolwiek można to zasymulować poprzez wycinanie i sklejanie. \n",
    "- Możliwe jest tworzenie krotek, które zawierają mutowalne obiekty takie jak np. listy.\n",
    "- Zwykle zawierają heterogeniczne sekwencje danych.\n",
    "- Przy pomocy operatorów `in`, `not in` można testować przynależność elementu do krotki.\n",
    "- Funkcja zwracająca kilka obiektów, zwraca je jako krotkę.\n",
    "\n",
    "\n",
    "### Tworzenie krotek. Funkcja `tuple()`, użycie `()`. \n",
    "Aby utworzyć krotkę należy użyć nawiasów `()` lub funkcji `tuple()` z argumentem bedącym obiektem iterowalnym. Jeżeli nie podamy żadnych argumentów tworzona jest pusta krotka. Krotkę możemy utorzyć z kilku obiektów oddzielonych przecinkami (bez użycia nawiasów `()`). Krotki z jednym elementem tworzymy poprzez wartość, po której następuje przecinek (nie wystarcza otoczyć pojedynczą wartość nawiasami okrągłymi).\n",
    "\n",
    "\n",
    "#### Proste przykłady:"
   ]
  },
  {
   "cell_type": "code",
   "execution_count": 1,
   "metadata": {},
   "outputs": [
    {
     "name": "stdout",
     "output_type": "stream",
     "text": [
      "<class 'tuple'>\n",
      "(1, 2, 3, 4, 5)\n",
      "True\n",
      "False\n",
      "3\n",
      "(2, 3)\n"
     ]
    }
   ],
   "source": [
    "k = (1,2,3,4,5)  # tworzenie krotki\n",
    "print(type(k))\n",
    "print(k)\n",
    "print(2 in k)  # spradzenie czy element jest w krotce\n",
    "print(0 in k)\n",
    "print(k[2])    # wypisanie elementu\n",
    "print(k[1:3])"
   ]
  },
  {
   "cell_type": "code",
   "execution_count": 2,
   "metadata": {},
   "outputs": [
    {
     "name": "stdout",
     "output_type": "stream",
     "text": [
      "<class 'tuple'>\n",
      "(11, [21, 22], 'tekst')\n",
      "22\n",
      "k\n"
     ]
    }
   ],
   "source": [
    "k1 = 11, [21, 22], 'tekst' # tworzenie krotki - krotka może zawierać obiekty różnych typów\n",
    "print(type(k1))\n",
    "print(k1)\n",
    "print(k1[1][1])\n",
    "print(k1[2][2])"
   ]
  },
  {
   "cell_type": "code",
   "execution_count": 3,
   "metadata": {},
   "outputs": [
    {
     "name": "stdout",
     "output_type": "stream",
     "text": [
      "((1, 2, 3, 4, 5), (22, 33, 44))\n",
      "33\n"
     ]
    }
   ],
   "source": [
    "k = (1,2,3,4,5)\n",
    "t = k, (22,33,44) #krotki można zagnieżdżać\n",
    "print(t)\n",
    "print(t[1][1])"
   ]
  },
  {
   "cell_type": "code",
   "execution_count": 4,
   "metadata": {},
   "outputs": [
    {
     "ename": "TypeError",
     "evalue": "'tuple' object does not support item assignment",
     "output_type": "error",
     "traceback": [
      "\u001b[1;31m---------------------------------------------------------------------------\u001b[0m",
      "\u001b[1;31mTypeError\u001b[0m                                 Traceback (most recent call last)",
      "\u001b[1;32m~\\AppData\\Local\\Temp/ipykernel_4908/2182772549.py\u001b[0m in \u001b[0;36m<module>\u001b[1;34m\u001b[0m\n\u001b[0;32m      1\u001b[0m \u001b[0mk\u001b[0m \u001b[1;33m=\u001b[0m \u001b[1;33m(\u001b[0m\u001b[1;36m1\u001b[0m\u001b[1;33m,\u001b[0m\u001b[1;36m2\u001b[0m\u001b[1;33m,\u001b[0m\u001b[1;36m3\u001b[0m\u001b[1;33m,\u001b[0m\u001b[1;36m4\u001b[0m\u001b[1;33m,\u001b[0m\u001b[1;36m5\u001b[0m\u001b[1;33m)\u001b[0m\u001b[1;33m\u001b[0m\u001b[1;33m\u001b[0m\u001b[0m\n\u001b[1;32m----> 2\u001b[1;33m \u001b[0mk\u001b[0m\u001b[1;33m[\u001b[0m\u001b[1;36m2\u001b[0m\u001b[1;33m]\u001b[0m \u001b[1;33m=\u001b[0m \u001b[1;36m111\u001b[0m   \u001b[1;31m#błąd - krotka jest obiektem niemutowalnym\u001b[0m\u001b[1;33m\u001b[0m\u001b[1;33m\u001b[0m\u001b[0m\n\u001b[0m",
      "\u001b[1;31mTypeError\u001b[0m: 'tuple' object does not support item assignment"
     ]
    }
   ],
   "source": [
    "k = (1,2,3,4,5)\n",
    "k[2] = 111   #błąd - krotka jest obiektem niemutowalnym"
   ]
  },
  {
   "cell_type": "code",
   "execution_count": 5,
   "metadata": {},
   "outputs": [
    {
     "name": "stdout",
     "output_type": "stream",
     "text": [
      "<class 'tuple'> ([1, 2, 3], [3, 2, 1])\n",
      "<class 'tuple'> ([1, 2, 3], [3, 111, 1])\n"
     ]
    }
   ],
   "source": [
    "t = [1,2,3],[3,2,1]\n",
    "print(type(t),t)    # krotki mogą zwracać/zawierać obiekty mutowalne - wtedy można modyfikować takie elementy\n",
    "t[1][1] = 111     \n",
    "print(type(t),t)"
   ]
  },
  {
   "cell_type": "code",
   "execution_count": 6,
   "metadata": {},
   "outputs": [
    {
     "name": "stdout",
     "output_type": "stream",
     "text": [
      "() ()\n",
      "('a',)\n",
      "(1,)\n"
     ]
    }
   ],
   "source": [
    "p = ()     #pusta krotka\n",
    "r = tuple()\n",
    "print(p,r)\n",
    "s = 'a',   #krotka jednoelementowa\n",
    "print(s)\n",
    "p = 1,\n",
    "print(p)"
   ]
  },
  {
   "cell_type": "code",
   "execution_count": 7,
   "metadata": {},
   "outputs": [
    {
     "name": "stdout",
     "output_type": "stream",
     "text": [
      "(1, 2, 3, 4, 5)\n",
      "1 2 3 4 5\n",
      "1 2 3 4 5\n"
     ]
    }
   ],
   "source": [
    "k = (1,2,3,4,5) #rozpakowanie krotki - lista zmiennych po lewej stronie ma tyle samo elementów co krotka\n",
    "a, b, c, d, e = k\n",
    "print(k)\n",
    "print(*k)      #rozpakowanie krotki przy użyciu operatora *\n",
    "print(a,b,c,d,e)"
   ]
  },
  {
   "cell_type": "markdown",
   "metadata": {
    "deletable": false,
    "editable": false,
    "nbgrader": {
     "cell_type": "markdown",
     "checksum": "2513a52be1359d165acfd1c23583b116",
     "grade": false,
     "grade_id": "cell-dd6bd4c980a20db2",
     "locked": true,
     "schema_version": 3,
     "solution": false,
     "task": false
    }
   },
   "source": [
    "### Ćwiczenie 1\n",
    "\n",
    "Napisz funkcję `sincos(x)` liczącą `sin(x)` oraz `cos(x)`, zwracającą obie te wartości naraz (krotka, `tuple`). Wypisz wyniki dla kątów od 0 do 90 stopni jak poniżej:\n",
    "```\n",
    "kąt:   0\t sin:   0.0000000000000000\t cos:   1.0000000000000000\n",
    "kąt:   9\t sin:   0.1564344650402309\t cos:   0.9876883405951378\n",
    "kąt:  18\t sin:   0.3090169943749474\t cos:   0.9510565162951535\n",
    "kąt:  27\t sin:   0.4539904997395467\t cos:   0.8910065241883679\n",
    "kąt:  36\t sin:   0.5877852522924731\t cos:   0.8090169943749475\n",
    "kąt:  45\t sin:   0.7071067811865476\t cos:   0.7071067811865476\n",
    "kąt:  54\t sin:   0.8090169943749475\t cos:   0.5877852522924731\n",
    "kąt:  63\t sin:   0.8910065241883678\t cos:   0.4539904997395468\n",
    "kąt:  72\t sin:   0.9510565162951535\t cos:   0.3090169943749475\n",
    "kąt:  81\t sin:   0.9876883405951378\t cos:   0.1564344650402309\n",
    "kąt:  90\t sin:   1.0000000000000000\t cos:   0.0000000000000001\n",
    "```\n"
   ]
  },
  {
   "cell_type": "code",
   "execution_count": 81,
   "metadata": {
    "deletable": false,
    "nbgrader": {
     "cell_type": "code",
     "checksum": "1b95901d6422590142617b93ed4efd59",
     "grade": false,
     "grade_id": "cell-783a526fc4d5f9a2",
     "locked": false,
     "schema_version": 3,
     "solution": true,
     "task": false
    }
   },
   "outputs": [
    {
     "name": "stdout",
     "output_type": "stream",
     "text": [
      "kąt:  0 \tsin: 0.000000 \t  cos: 1.000000\n",
      "kąt:  9 \tsin: 0.412118 \t  cos: -0.911130\n",
      "kąt:  18 \tsin: -0.750987 \t  cos: 0.660317\n",
      "kąt:  27 \tsin: 0.956376 \t  cos: -0.292139\n",
      "kąt:  36 \tsin: -0.991779 \t  cos: -0.127964\n",
      "kąt:  45 \tsin: 0.850904 \t  cos: 0.525322\n",
      "kąt:  54 \tsin: -0.558789 \t  cos: -0.829310\n",
      "kąt:  63 \tsin: 0.167356 \t  cos: 0.985897\n",
      "kąt:  72 \tsin: 0.253823 \t  cos: -0.967251\n",
      "kąt:  81 \tsin: -0.629888 \t  cos: 0.776686\n",
      "kąt:  90 \tsin: 0.893997 \t  cos: -0.448074\n"
     ]
    }
   ],
   "source": [
    "import math\n",
    "\n",
    "def sincos(x):\n",
    "    return math.sin(x),math.cos(x)\n",
    "    \n",
    "for x in range(0,99,9):\n",
    "    s,c = sincos(x)\n",
    "    print(\"kąt:  %d \\tsin: %f \\t  cos: %f\" %(x,s,c))\n",
    "\n",
    "#raise NotImplementedError()"
   ]
  },
  {
   "cell_type": "markdown",
   "metadata": {
    "deletable": false,
    "editable": false,
    "nbgrader": {
     "cell_type": "markdown",
     "checksum": "41070e7f92699a8b28d795de16e0f94e",
     "grade": false,
     "grade_id": "cell-b1761b0051009272",
     "locked": true,
     "schema_version": 3,
     "solution": false,
     "task": false
    }
   },
   "source": [
    "## Zbiory\n",
    "\n",
    "- Zbiór jest nieuporządkowaną kolekcją nie zawierającą duplikatów.\n",
    "- Zbiór to nowy typ zmiennych: `set`. \n",
    "- Przy pomocy operatorów `in`, `not in` można testować przynależność elementu do zbioru\n",
    "- Zbiory umożliwiają wykonywanie takich operacji jak: suma, przecięcie, różnica oraz różnica symetryczna.\n",
    "\n",
    "\n",
    "### Tworzenie zbiorów. Funkcja `set()`, użycie `{}`. \n",
    "Aby utworzyć zbiór należy użyć nawiasów `{}` lub funkcji `set()` z argumentem bedącym obiektem iterowalnym.\n",
    "Aby utworzyć zbiór pusty należy użyć funkcji `set()` bez argumentów, a nie nawiasów `{}`(konstrukcja `{}` tworzy pusty słownik).\n",
    "\n",
    "\n",
    "#### Proste przykłady:"
   ]
  },
  {
   "cell_type": "code",
   "execution_count": 82,
   "metadata": {},
   "outputs": [
    {
     "name": "stdout",
     "output_type": "stream",
     "text": [
      "<class 'set'>\n",
      "{1, 2, 3, 4, 5}\n",
      "True\n",
      "False\n"
     ]
    }
   ],
   "source": [
    "z = {1,2,3,4,5}  # tworzenie zbioru\n",
    "print(type(z))\n",
    "print(z)\n",
    "print(2 in z)  # spradzenie element jest w zbiorze\n",
    "print(0 in z)"
   ]
  },
  {
   "cell_type": "code",
   "execution_count": 28,
   "metadata": {},
   "outputs": [
    {
     "name": "stdout",
     "output_type": "stream",
     "text": [
      "[1, 2, 3, 1, 3, 5, 1]\n",
      "{1, 2, 3, 5}\n"
     ]
    }
   ],
   "source": [
    "p = [1,2,3,1,3,5,1]\n",
    "print(p)\n",
    "zp = set(p)  # tworzenie zbioru z listy\n",
    "print(zp)"
   ]
  },
  {
   "cell_type": "code",
   "execution_count": 29,
   "metadata": {},
   "outputs": [
    {
     "data": {
      "text/plain": [
       "{'a', 'f', 'i', 'k', 'm', 'n', 'o', 'r', 't', 'y'}"
      ]
     },
     "execution_count": 29,
     "metadata": {},
     "output_type": "execute_result"
    }
   ],
   "source": [
    "zt = set('informatyka')  # tworzenie zbioru z tekstu\n",
    "zt"
   ]
  },
  {
   "cell_type": "code",
   "execution_count": 30,
   "metadata": {},
   "outputs": [
    {
     "name": "stdout",
     "output_type": "stream",
     "text": [
      "set()\n",
      "<class 'set'>\n"
     ]
    }
   ],
   "source": [
    "zp = set()  # tworzenie zbioru pustego\n",
    "print(zp)\n",
    "print(type(zp))"
   ]
  },
  {
   "cell_type": "markdown",
   "metadata": {
    "deletable": false,
    "editable": false,
    "nbgrader": {
     "cell_type": "markdown",
     "checksum": "aae360c86df9bb4b568073a9716d2e54",
     "grade": false,
     "grade_id": "cell-1b7e3d80b9d28ada",
     "locked": true,
     "schema_version": 3,
     "solution": false
    }
   },
   "source": [
    "### Podstawowe operacje na zbiorach:\n",
    "\n",
    "- `|` - Suma zbiorów\n",
    "\n",
    "- `&` - Przecięcie zbiorów\n",
    "\n",
    "- `-` - Różnica zbiorów\n",
    "\n",
    "- `^` - Różnica symetryczna zbiorów"
   ]
  },
  {
   "cell_type": "code",
   "execution_count": 31,
   "metadata": {},
   "outputs": [
    {
     "name": "stdout",
     "output_type": "stream",
     "text": [
      "{'o', 'n', 'i', 'm', 'a', 'f', 'y', 'k', 't', 'r'} {'i', 'a', 'f', 'y', 'k', 'z'}\n",
      "{'o', 'z', 'n', 'i', 'm', 'a', 'f', 'y', 'k', 't', 'r'}\n",
      "{'i', 'a', 'f', 'y', 'k'}\n",
      "{'o', 'n', 'm', 't', 'r'}\n",
      "{'z'}\n",
      "{'o', 't', 'r', 'n', 'm', 'z'}\n"
     ]
    }
   ],
   "source": [
    "a = set('informatyka')\n",
    "b = set('fizyka')\n",
    "print(a, b)\n",
    "print(a | b)\n",
    "print(a & b)\n",
    "print(a - b)\n",
    "print(b - a)\n",
    "print(a ^ b)"
   ]
  },
  {
   "cell_type": "markdown",
   "metadata": {
    "deletable": false,
    "editable": false,
    "nbgrader": {
     "cell_type": "markdown",
     "checksum": "ecc57743deb7061df7a854044d7e773a",
     "grade": false,
     "grade_id": "cell-0c2143825a18c9a3",
     "locked": true,
     "schema_version": 3,
     "solution": false
    }
   },
   "source": [
    "### Kopiowanie zbiorów\n",
    "Kopiowanie zbiorów odbywa sie poprzez referencje (tak jak w listach). Aby skopiować zbiór tworząc nowy obiekt należy użyć metody `copy()` klasy `set`."
   ]
  },
  {
   "cell_type": "code",
   "execution_count": 32,
   "metadata": {},
   "outputs": [
    {
     "name": "stdout",
     "output_type": "stream",
     "text": [
      "{1, 2, 3, 4, 5}\n",
      "2329834149472 2329834149472\n"
     ]
    }
   ],
   "source": [
    "z = {1,2,3,4,5} \n",
    "p = z\n",
    "print(p)\n",
    "print(id(z),id(p))"
   ]
  },
  {
   "cell_type": "code",
   "execution_count": 33,
   "metadata": {},
   "outputs": [
    {
     "name": "stdout",
     "output_type": "stream",
     "text": [
      "{1, 2, 3, 4, 5}\n",
      "2329834149248 2329834149696\n"
     ]
    }
   ],
   "source": [
    "z = {1,2,3,4,5} \n",
    "q = z.copy()\n",
    "print(q)\n",
    "print(id(z),id(q))"
   ]
  },
  {
   "cell_type": "markdown",
   "metadata": {
    "deletable": false,
    "editable": false,
    "nbgrader": {
     "cell_type": "markdown",
     "checksum": "340d95ed47a17ad945e9346445d72aa6",
     "grade": false,
     "grade_id": "cell-a77ac242a1ac03c0",
     "locked": true,
     "schema_version": 3,
     "solution": false
    }
   },
   "source": [
    "### Metody wbudowane dla zbiorów.\n",
    "\n",
    "Metody dla zbiorów:\n",
    "https://docs.python.org/3/library/stdtypes.html#set\n",
    "\n",
    "Wybrane metody do użycia:\n",
    "- `add(elem)` - dodaje element `elem` do zbioru.\n",
    "- `remove(elem)` - usuwa element `elem` ze zbioru. Jeżeli elementu nie ma błąd ` KeyError`.\n",
    "- `discard(elem)` - usuwa element `elem` ze zbioru jeżeli w nim jest.\n",
    "- `pop()` - usuwa i zwraca dowolny element ze zbioru.\n",
    "- `clear()` - usuwa wszystkie elementy.\n",
    "- `issubset(z)` - sprawdza czy dany zbiór jest podzbiorem zbioru `z`.\n",
    "- `issuperset(z)` - sprawdza czy dany zbiór zawiera zbiór `z`.\n",
    "\n",
    "__Uwaga!__ Wiekszość metod dla zbiorów modyfikuje zbiór i zwraca `None`."
   ]
  },
  {
   "cell_type": "code",
   "execution_count": 34,
   "metadata": {},
   "outputs": [
    {
     "name": "stdout",
     "output_type": "stream",
     "text": [
      "{1, 2, 3, 4, 5, 6}\n",
      "{2, 3, 4, 5, 6}\n",
      "{2, 3, 4, 5, 6}\n",
      "{3, 4, 5, 6} 2\n",
      "set()\n"
     ]
    }
   ],
   "source": [
    "z = {1,2,3,4,5} \n",
    "z.add(6)  # dodaje element\n",
    "print(z)\n",
    "z.remove(1)  # usuwa element\n",
    "print(z)\n",
    "z.discard(1)  # usuwa element\n",
    "print(z)\n",
    "w = z.pop()  # usuwa i zwraca\n",
    "print(z,w)\n",
    "z.clear()\n",
    "print(z)"
   ]
  },
  {
   "cell_type": "code",
   "execution_count": 35,
   "metadata": {},
   "outputs": [
    {
     "name": "stdout",
     "output_type": "stream",
     "text": [
      "{'o', 'n', 'i', 'm', 'a', 'f', 'y', 'k', 't', 'r'} {'o', 'm', 'a', 'f', 't', 'r'}\n",
      "True\n",
      "True\n"
     ]
    }
   ],
   "source": [
    "a = set('informatyka')\n",
    "b = set('format')\n",
    "print(a,b)\n",
    "print(b.issubset(a))\n",
    "print(a.issuperset(b))"
   ]
  },
  {
   "cell_type": "markdown",
   "metadata": {
    "deletable": false,
    "editable": false,
    "nbgrader": {
     "cell_type": "markdown",
     "checksum": "8c738a0e83bd26676a6bb73a0caf97c8",
     "grade": false,
     "grade_id": "cell-d72f0b41a79b0a91",
     "locked": true,
     "schema_version": 3,
     "solution": false
    }
   },
   "source": [
    "Do tworzenia zbioru można użyć konstrukcji typu: `set comprehension`."
   ]
  },
  {
   "cell_type": "code",
   "execution_count": 36,
   "metadata": {},
   "outputs": [
    {
     "name": "stdout",
     "output_type": "stream",
     "text": [
      "{'k', 'n', 'y', 'i'}\n"
     ]
    }
   ],
   "source": [
    "z = {i for i in 'informatyka' if i not in 'format'}\n",
    "print(z)"
   ]
  },
  {
   "cell_type": "markdown",
   "metadata": {
    "deletable": false,
    "editable": false,
    "nbgrader": {
     "cell_type": "markdown",
     "checksum": "9a8a3aa73d797e625f7ae08953b28284",
     "grade": false,
     "grade_id": "cell-7a98ba2a975b8d69",
     "locked": true,
     "schema_version": 3,
     "solution": false
    }
   },
   "source": [
    "### Ćwiczenie 2\n",
    "Używając zbiorów sprawdź, czy wszystkie litery słowa `slowo` znajdują się w tekście `tekst`."
   ]
  },
  {
   "cell_type": "code",
   "execution_count": 39,
   "metadata": {
    "deletable": false,
    "nbgrader": {
     "cell_type": "code",
     "checksum": "438f7a7defab062e130532b996c20c89",
     "grade": false,
     "grade_id": "cell-9b7d748058dddf78",
     "locked": false,
     "schema_version": 3,
     "solution": true
    }
   },
   "outputs": [
    {
     "data": {
      "text/plain": [
       "True"
      ]
     },
     "execution_count": 39,
     "metadata": {},
     "output_type": "execute_result"
    }
   ],
   "source": [
    "slowo = 'ponaddwustudziewięćdziesięciodziewięciokilometrowy'\n",
    "\n",
    "tekst = \"\"\"Najdłuższym polskim słowem mającym dokładnie jedną samogłoskę (czyli jednosylabowym) jest “chrząszcz” (9 liter), choć ma tylko 5 głosek.\n",
    "W innych słowiańskich językach można stworzyć słowa w ogóle bez samogłosek np. sk:vlk czy hr:krk. To drugie znamy też z nazwy słoweńskiej firmy farmaceutycznej: Krka.\n",
    "Najbardziej bezwzględnym słowem dla samogłosek jest właśnie słowo “beZWZGLędny”, bo ma aż pięć spółgłosek obok siebie.\"\"\"\n",
    "\n",
    "def check(slowo, tekst):\n",
    "    check = [sl for sl in slowo if sl in tekst]\n",
    "\n",
    "    if len(check)==len(slowo):\n",
    "        return True\n",
    "    else:\n",
    "        return False\n",
    "\n",
    "check(slowo,tekst)\n",
    "\n",
    "#raise NotImplementedError()"
   ]
  },
  {
   "cell_type": "markdown",
   "metadata": {
    "deletable": false,
    "editable": false,
    "nbgrader": {
     "cell_type": "markdown",
     "checksum": "717c6ac91437fcdb16a052351737eea8",
     "grade": false,
     "grade_id": "cell-fd0d4492c3c1bfdb",
     "locked": true,
     "schema_version": 3,
     "solution": false
    }
   },
   "source": [
    "## Słowniki\n",
    "\n",
    "- Słownik to nowy typ zmiennych: `dict`. Jest obiektem mapującym tzn. służy mapowaniu nazw na obiekty (tablica asocjacyjna).\n",
    "- Słownik można traktować jako nieuporządkowany zbiór par `klucz:wartość`, z założeniem, że klucze są unikalne (w jednym słowniku).\n",
    "- Słowniki indeksowane są kluczami co oznacza, że do elementów słownika odwołujemy się poprzez klucze. Klucze mogą być obiektami dowolnego, niemutowalnego typu (napisy, liczby, tuple). \n",
    "- Para nawiasów klamrowych tworzy pusty słownik: `{}`.\n",
    "- Umieszczenie listy par `klucz:wartość`, oddzielonych przecinkami w nawiasach `{}` dodaje początkowe pary `klucz:wartość` do słownika.\n",
    "\n",
    "#### Proste przykłady:"
   ]
  },
  {
   "cell_type": "code",
   "execution_count": 40,
   "metadata": {},
   "outputs": [
    {
     "name": "stdout",
     "output_type": "stream",
     "text": [
      "{'imie': 'Karol', 'nazwisko': 'Górski'}\n"
     ]
    },
    {
     "data": {
      "text/plain": [
       "dict"
      ]
     },
     "execution_count": 40,
     "metadata": {},
     "output_type": "execute_result"
    }
   ],
   "source": [
    "d = {'imie': 'Karol', 'nazwisko': 'Górski'}  # tworzenie słownika\n",
    "print(d)\n",
    "type(d)"
   ]
  },
  {
   "cell_type": "code",
   "execution_count": 41,
   "metadata": {},
   "outputs": [
    {
     "data": {
      "text/plain": [
       "'Karol'"
      ]
     },
     "execution_count": 41,
     "metadata": {},
     "output_type": "execute_result"
    }
   ],
   "source": [
    "d['imie']  # odwołanie do elementu słownika poprzez klucz"
   ]
  },
  {
   "cell_type": "code",
   "execution_count": 42,
   "metadata": {},
   "outputs": [
    {
     "data": {
      "text/plain": [
       "dict"
      ]
     },
     "execution_count": 42,
     "metadata": {},
     "output_type": "execute_result"
    }
   ],
   "source": [
    "b = {}  # tworzenie pustego słownika\n",
    "type(d)"
   ]
  },
  {
   "cell_type": "markdown",
   "metadata": {
    "deletable": false,
    "editable": false,
    "nbgrader": {
     "cell_type": "markdown",
     "checksum": "2f037e5f6bbf4279b3c76e9e456975b9",
     "grade": false,
     "grade_id": "cell-f4d0ccd23d94ef9e",
     "locked": true,
     "schema_version": 3,
     "solution": false
    }
   },
   "source": [
    "Klucze słownika mogą mieć postać list wartości oddzielonych przecinkami (krotki)."
   ]
  },
  {
   "cell_type": "code",
   "execution_count": 43,
   "metadata": {},
   "outputs": [
    {
     "data": {
      "text/plain": [
       "{(0, 1, 2): 'jeden', (1, 2, 3): 'dwa'}"
      ]
     },
     "execution_count": 43,
     "metadata": {},
     "output_type": "execute_result"
    }
   ],
   "source": [
    "b = {} \n",
    "b[0,1,2] = 'jeden'\n",
    "b[1,2,3] = 'dwa'\n",
    "b"
   ]
  },
  {
   "cell_type": "markdown",
   "metadata": {
    "deletable": false,
    "editable": false,
    "nbgrader": {
     "cell_type": "markdown",
     "checksum": "cf244fad43c6a3063eacf23a71c52e04",
     "grade": false,
     "grade_id": "cell-f3460ad886ced470",
     "locked": true,
     "schema_version": 3,
     "solution": false
    }
   },
   "source": [
    "### Podstawowe operacje na słownikach.\n",
    "\n",
    "Głównymi operacjami na słownikach są:\n",
    "\n",
    "- Dodawanie wartości z jakimś kluczem.\n",
    "- Pobieranie wartości opatrzonej podanym kluczem.\n",
    "- Usuwanie pary `klucz:wartość` za pomoca instrukcji `del`.\n",
    "- `len()` Zwraca liczbę elementów w słowniku."
   ]
  },
  {
   "cell_type": "code",
   "execution_count": 44,
   "metadata": {},
   "outputs": [
    {
     "name": "stdout",
     "output_type": "stream",
     "text": [
      "{'imie': 'Karol', 'nazwisko': 'Górski', 'wiek': 22}\n"
     ]
    }
   ],
   "source": [
    "d = {'imie': 'Karol', 'nazwisko': 'Górski'}\n",
    "d['wiek'] = 22  # dodanie nowego pola - wartość z kluczem\n",
    "print(d)"
   ]
  },
  {
   "cell_type": "code",
   "execution_count": 45,
   "metadata": {},
   "outputs": [
    {
     "name": "stdout",
     "output_type": "stream",
     "text": [
      "Karol\n"
     ]
    }
   ],
   "source": [
    "print(d['imie'])  # odwołanie do elementu przez klucz"
   ]
  },
  {
   "cell_type": "code",
   "execution_count": 46,
   "metadata": {},
   "outputs": [
    {
     "name": "stdout",
     "output_type": "stream",
     "text": [
      "Paweł\n"
     ]
    }
   ],
   "source": [
    "d['imie'] = 'Paweł'  #zmiana wartości dla istniejącego klucza - poprzednia wartość zapominana\n",
    "print(d['imie'])"
   ]
  },
  {
   "cell_type": "code",
   "execution_count": 47,
   "metadata": {},
   "outputs": [
    {
     "data": {
      "text/plain": [
       "{'imie': 'Paweł', 'nazwisko': 'Górski'}"
      ]
     },
     "execution_count": 47,
     "metadata": {},
     "output_type": "execute_result"
    }
   ],
   "source": [
    "del d['wiek']  # usunięcie klucza wiek (z wartością)\n",
    "d"
   ]
  },
  {
   "cell_type": "code",
   "execution_count": 48,
   "metadata": {},
   "outputs": [
    {
     "name": "stdout",
     "output_type": "stream",
     "text": [
      "2\n"
     ]
    }
   ],
   "source": [
    "print(len(d))  # liczba elementów (par klucz:wartość)"
   ]
  },
  {
   "cell_type": "markdown",
   "metadata": {
    "deletable": false,
    "editable": false,
    "nbgrader": {
     "cell_type": "markdown",
     "checksum": "38538682df385546dd2793f6177176e0",
     "grade": false,
     "grade_id": "cell-2f3a009ecf820c1e",
     "locked": true,
     "schema_version": 3,
     "solution": false
    }
   },
   "source": [
    "Próba pozyskania wartości spod klucza, który nie istnieje w słowniku - błąd klucza!"
   ]
  },
  {
   "cell_type": "code",
   "execution_count": 49,
   "metadata": {},
   "outputs": [
    {
     "ename": "KeyError",
     "evalue": "'wiek'",
     "output_type": "error",
     "traceback": [
      "\u001b[1;31m---------------------------------------------------------------------------\u001b[0m",
      "\u001b[1;31mKeyError\u001b[0m                                  Traceback (most recent call last)",
      "\u001b[1;32m~\\AppData\\Local\\Temp/ipykernel_4908/597285747.py\u001b[0m in \u001b[0;36m<module>\u001b[1;34m\u001b[0m\n\u001b[1;32m----> 1\u001b[1;33m \u001b[0md\u001b[0m\u001b[1;33m[\u001b[0m\u001b[1;34m'wiek'\u001b[0m\u001b[1;33m]\u001b[0m\u001b[1;33m\u001b[0m\u001b[1;33m\u001b[0m\u001b[0m\n\u001b[0m",
      "\u001b[1;31mKeyError\u001b[0m: 'wiek'"
     ]
    }
   ],
   "source": [
    "d['wiek']"
   ]
  },
  {
   "cell_type": "markdown",
   "metadata": {
    "deletable": false,
    "editable": false,
    "nbgrader": {
     "cell_type": "markdown",
     "checksum": "17322435d54b7840107e7bf21bfbd13d",
     "grade": false,
     "grade_id": "cell-280c218d883f4742",
     "locked": true,
     "schema_version": 3,
     "solution": false
    }
   },
   "source": [
    "### Kopiowanie słowników.\n",
    "Kopiowanie słowników odbywa się poprzez referencje. Aby skopiować słownik tworząc nowy obiekt należy użyć\n",
    "metody `copy()` klasy `dict`."
   ]
  },
  {
   "cell_type": "code",
   "execution_count": 50,
   "metadata": {},
   "outputs": [
    {
     "name": "stdout",
     "output_type": "stream",
     "text": [
      "{'imie': 'Karol', 'nazwisko': 'Górski'}\n",
      "2329834180032 2329834180032\n"
     ]
    }
   ],
   "source": [
    "d = {'imie': 'Karol', 'nazwisko': 'Górski'}\n",
    "s = d  # referencja\n",
    "print(s)\n",
    "print(id(d), id(s))"
   ]
  },
  {
   "cell_type": "code",
   "execution_count": 51,
   "metadata": {},
   "outputs": [
    {
     "name": "stdout",
     "output_type": "stream",
     "text": [
      "{'imie': 'Karol', 'nazwisko': 'Górski'}\n",
      "2329834177920 2329833245184\n"
     ]
    }
   ],
   "source": [
    "d = {'imie': 'Karol', 'nazwisko': 'Górski'}\n",
    "r = d.copy()  # kopia\n",
    "print(r)\n",
    "print(id(d), id(r))"
   ]
  },
  {
   "cell_type": "markdown",
   "metadata": {
    "deletable": false,
    "editable": false,
    "nbgrader": {
     "cell_type": "markdown",
     "checksum": "252769c1e3f1395f67d2e9614fc0aa11",
     "grade": false,
     "grade_id": "cell-57d8519c83de35df",
     "locked": true,
     "schema_version": 3,
     "solution": false
    }
   },
   "source": [
    "### Metody wbudowane dla słowników.\n",
    "\n",
    "Metody dla słowników:\n",
    "https://docs.python.org/3/library/stdtypes.html#dict\n",
    "\n",
    "Wybrane metody do użycia:\n",
    "- `keys()` - zwraca listę kluczy w słowniku.\n",
    "- `values()` - zwraca listę wartości w słowniku.\n",
    "- `items()` - zwraca listę par `(klucz,wartość)`.\n",
    "- `update(s)` - dodaje do słownika wszystkie elementy ze słownika s.\n",
    "- `pop(klucz)` - usuwa wskazany `klucz` ze słownika i zwraca przypisaną mu wartość.\n",
    "- `popitem()` - usuwa parę `(klucz,wartość)` i zwraca ją w postaci tupli (iteracyjne usuwanie zawartości słownika). Pary są zwracane w kolejności LIFO.\n",
    "- `clear()` - usuwa wszystkie elementy słownika."
   ]
  },
  {
   "cell_type": "code",
   "execution_count": 52,
   "metadata": {},
   "outputs": [
    {
     "name": "stdout",
     "output_type": "stream",
     "text": [
      "1)  dict_keys(['imie', 'nazwisko', 'wiek'])\n",
      "2)  dict_values(['Karol', 'Górski', 22])\n",
      "3)  dict_items([('imie', 'Karol'), ('nazwisko', 'Górski'), ('wiek', 22)])\n"
     ]
    }
   ],
   "source": [
    "d = {'imie': 'Karol', 'nazwisko': 'Górski', 'wiek': 22}\n",
    "print('1) ',d.keys())\n",
    "print('2) ',d.values())\n",
    "print('3) ',d.items())"
   ]
  },
  {
   "cell_type": "code",
   "execution_count": 53,
   "metadata": {},
   "outputs": [
    {
     "name": "stdout",
     "output_type": "stream",
     "text": [
      "{'imie': 'Karol', 'nazwisko': 'Górski', 'wiek': 22, 'miejscowość': 'Kraków', 'kod pocztowy': '31-876'}\n",
      "31-876\n",
      "{'imie': 'Karol', 'nazwisko': 'Górski', 'wiek': 22, 'miejscowość': 'Kraków'}\n",
      "('miejscowość', 'Kraków')\n",
      "{'imie': 'Karol', 'nazwisko': 'Górski', 'wiek': 22}\n"
     ]
    },
    {
     "data": {
      "text/plain": [
       "{}"
      ]
     },
     "execution_count": 53,
     "metadata": {},
     "output_type": "execute_result"
    }
   ],
   "source": [
    "d = {'imie': 'Karol', 'nazwisko': 'Górski', 'wiek': 22}\n",
    "s = {'miejscowość': 'Kraków', 'kod pocztowy': '31-876'}\n",
    "d.update(s)\n",
    "print(d)\n",
    "print(d.pop('kod pocztowy'))\n",
    "print(d)\n",
    "print(d.popitem())\n",
    "print(d)\n",
    "d.clear()\n",
    "d"
   ]
  },
  {
   "cell_type": "markdown",
   "metadata": {
    "deletable": false,
    "editable": false,
    "nbgrader": {
     "cell_type": "markdown",
     "checksum": "eee6bda1c54d94366226cf33c0e1d5e0",
     "grade": false,
     "grade_id": "cell-b63b6ae0e8bf310e",
     "locked": true,
     "schema_version": 3,
     "solution": false
    }
   },
   "source": [
    "#### Przeglądanie słowników."
   ]
  },
  {
   "cell_type": "code",
   "execution_count": 54,
   "metadata": {},
   "outputs": [
    {
     "name": "stdout",
     "output_type": "stream",
     "text": [
      "imie, nazwisko, wiek, "
     ]
    }
   ],
   "source": [
    "d = {'imie': 'Karol', 'nazwisko': 'Górski', 'wiek': 22}\n",
    "for key in d.keys():\n",
    "    print(key, end = ', ')"
   ]
  },
  {
   "cell_type": "code",
   "execution_count": 55,
   "metadata": {},
   "outputs": [
    {
     "name": "stdout",
     "output_type": "stream",
     "text": [
      "imie, nazwisko, wiek, "
     ]
    }
   ],
   "source": [
    "# iterowanie po kluczach jest równoważne z iterowaniem po słowniku\n",
    "for el in d:\n",
    "    print(el, end = ', ')"
   ]
  },
  {
   "cell_type": "code",
   "execution_count": 56,
   "metadata": {},
   "outputs": [
    {
     "name": "stdout",
     "output_type": "stream",
     "text": [
      "Karol, Górski, 22, "
     ]
    }
   ],
   "source": [
    "for values in d.values():\n",
    "    print(values, end = ', ')"
   ]
  },
  {
   "cell_type": "code",
   "execution_count": 57,
   "metadata": {},
   "outputs": [
    {
     "name": "stdout",
     "output_type": "stream",
     "text": [
      "('imie', 'Karol'), ('nazwisko', 'Górski'), ('wiek', 22), "
     ]
    }
   ],
   "source": [
    "for item in d.items():\n",
    "    print(item, end = ', ')"
   ]
  },
  {
   "cell_type": "code",
   "execution_count": 58,
   "metadata": {},
   "outputs": [
    {
     "name": "stdout",
     "output_type": "stream",
     "text": [
      "imie Karol\n",
      "nazwisko Górski\n",
      "wiek 22\n"
     ]
    }
   ],
   "source": [
    "for key, values in d.items():\n",
    "    print(key, values)"
   ]
  },
  {
   "cell_type": "markdown",
   "metadata": {
    "deletable": false,
    "editable": false,
    "nbgrader": {
     "cell_type": "markdown",
     "checksum": "b5cf309870a0c0c3df5abea35a0371a9",
     "grade": false,
     "grade_id": "cell-6d70495c386426e5",
     "locked": true,
     "schema_version": 3,
     "solution": false
    }
   },
   "source": [
    "### Operatory `in`, `not in`.\n",
    "\n",
    "Sprawdzenie czy klucz znajduje się w słowniku."
   ]
  },
  {
   "cell_type": "code",
   "execution_count": 59,
   "metadata": {},
   "outputs": [
    {
     "data": {
      "text/plain": [
       "True"
      ]
     },
     "execution_count": 59,
     "metadata": {},
     "output_type": "execute_result"
    }
   ],
   "source": [
    "d = {'imie': 'Karol', 'nazwisko': 'Górski'}\n",
    "'imie' in d"
   ]
  },
  {
   "cell_type": "markdown",
   "metadata": {
    "deletable": false,
    "editable": false,
    "nbgrader": {
     "cell_type": "markdown",
     "checksum": "cc6bac661e3cf4d8271b0fb8f066f0ee",
     "grade": false,
     "grade_id": "cell-25e054e5172f6847",
     "locked": true,
     "schema_version": 3,
     "solution": false
    }
   },
   "source": [
    "Sprawdzenie czy wartość znajduje się w słowniku."
   ]
  },
  {
   "cell_type": "code",
   "execution_count": 83,
   "metadata": {},
   "outputs": [
    {
     "name": "stdout",
     "output_type": "stream",
     "text": [
      "dict_values(['Karol', 'Górski'])\n"
     ]
    },
    {
     "data": {
      "text/plain": [
       "False"
      ]
     },
     "execution_count": 83,
     "metadata": {},
     "output_type": "execute_result"
    }
   ],
   "source": [
    "print(d.values())\n",
    "'Michał' in d.values()"
   ]
  },
  {
   "cell_type": "markdown",
   "metadata": {
    "deletable": false,
    "editable": false,
    "nbgrader": {
     "cell_type": "markdown",
     "checksum": "55aa3988bcfe417392946a6b2287b42c",
     "grade": false,
     "grade_id": "cell-26b37861986bd9e7",
     "locked": true,
     "schema_version": 3,
     "solution": false,
     "task": false
    }
   },
   "source": [
    "Do tworzenia słownika można użyć konstrukcji typu: `dict comprehension`."
   ]
  },
  {
   "cell_type": "code",
   "execution_count": 1,
   "metadata": {},
   "outputs": [
    {
     "name": "stdout",
     "output_type": "stream",
     "text": [
      "{1: 1, 2: 8, 3: 27}\n"
     ]
    },
    {
     "data": {
      "text/plain": [
       "'brak'"
      ]
     },
     "execution_count": 1,
     "metadata": {},
     "output_type": "execute_result"
    }
   ],
   "source": [
    "s = {i : i**3 for i in (1, 2, 3)}\n",
    "print(s)\n",
    "s.get(4,'brak')"
   ]
  },
  {
   "cell_type": "markdown",
   "metadata": {
    "deletable": false,
    "editable": false,
    "nbgrader": {
     "cell_type": "markdown",
     "checksum": "cef5b273a126a44fe7500daeb356c68a",
     "grade": false,
     "grade_id": "cell-43d7d9d00155c5a9",
     "locked": true,
     "schema_version": 3,
     "solution": false
    }
   },
   "source": [
    "### Ćwiczenie 3\n",
    "Wykorzystując słownik jako licznik napisz program, który zliczy ile razy dana litera występuje w podanym słowie/tekście."
   ]
  },
  {
   "cell_type": "code",
   "execution_count": 35,
   "metadata": {
    "deletable": false,
    "nbgrader": {
     "cell_type": "code",
     "checksum": "b279c072eca9e15f0fccdb74e026ba77",
     "grade": false,
     "grade_id": "cell-0f9165c0147c65b0",
     "locked": false,
     "schema_version": 3,
     "solution": true
    }
   },
   "outputs": [
    {
     "name": "stdout",
     "output_type": "stream",
     "text": [
      "{'R': 1, 'i': 4, 'n': 5, 'd': 1, 'f': 2, 'l': 1, 'e': 9, 's': 5, 'c': 2, 'h': 2, 't': 5, 'k': 1, 'r': 4, 'u': 4, 'g': 6, 'ü': 2, 'b': 3, 'w': 1, 'a': 4, 'z': 1}\n"
     ]
    }
   ],
   "source": [
    "slowo = 'Rindfleischetikettierungsüberwachungsaufgabenübertragungsgesetz' \n",
    "#czyli “prawo do delegowania obowiązków dotyczących nadzoru znakowania bydła i etykietowania wołowiny” :)\n",
    "\n",
    "slownik = {}\n",
    "for litera in slowo:\n",
    "    if litera in slownik:\n",
    "        slownik[litera] +=1\n",
    "    if litera not in slownik:\n",
    "        slownik[litera] = 1\n",
    "print(slownik)\n",
    "\n",
    "#raise NotImplementedError()"
   ]
  },
  {
   "cell_type": "markdown",
   "metadata": {
    "deletable": false,
    "editable": false,
    "nbgrader": {
     "cell_type": "markdown",
     "checksum": "8ba8b355bdc831090365908bd71cb728",
     "grade": false,
     "grade_id": "cell-781b6d931ec105a3",
     "locked": true,
     "schema_version": 3,
     "solution": false
    }
   },
   "source": [
    "### Ćwiczenie 4\n",
    "Wykorzystując słownik napisz translator tekstu na alfabet Mors'a.\n",
    "\n",
    "Szczegółowe informacje znajdziesz pod linkiem : http://alfabetmorsa.pl/\n",
    "\n",
    "Przetłumacz poniższy tekst. Załóżmy, że znakiem rozdzielającym słowa w alfabecie Morse'a jest znak `/`."
   ]
  },
  {
   "cell_type": "code",
   "execution_count": 36,
   "metadata": {
    "deletable": false,
    "nbgrader": {
     "cell_type": "code",
     "checksum": "31eaf7352adb452971f01fd73f0963aa",
     "grade": false,
     "grade_id": "cell-1469c5583f2ad090",
     "locked": false,
     "schema_version": 3,
     "solution": true
    }
   },
   "outputs": [
    {
     "name": "stdout",
     "output_type": "stream",
     "text": [
      "tekst:\n",
      " Matematyka i informatyka jest super\n",
      "\n",
      "tłumaczenie tekstu:\n",
      " -- •- - • -- •- - -•-- -•- •- / •• / •• -• ••-• --- •-• -- •- - -•-- -•- •- / •--- • ••• - / ••• ••- •--• • •-• \n"
     ]
    }
   ],
   "source": [
    "litery = ['A','B','C','D','E','F','G','H','I','J','K','L','M','N','O','P','Q','R','S','T','U',\n",
    "          'V','W','X','Y','Z',' ']\n",
    "mors = ['•-','-•••','-•-•','-••','•','••-•','--•','••••','••','•---','-•-','•-••','--','-•',\n",
    "        '---','•--•','--•-','•-•','•••','-','••-','•••-','•--','-••-','-•--','--••','/']\n",
    "\n",
    "tekst = 'Matematyka i informatyka jest super'\n",
    "print(\"tekst:\\n\",tekst)\n",
    "\n",
    "class UnknownSign:\n",
    "    def __init__(self,wartosc):\n",
    "        self.wartosc = wartosc\n",
    "    def __str__(self):\n",
    "        return 'self.wartosc'\n",
    "\n",
    "def tworz_slownik():\n",
    "    slownik = {litery[litera] : mors[litera] for litera in range(len(mors))}\n",
    "    return slownik\n",
    "\n",
    "slownik = tworz_slownik()\n",
    "\n",
    "def tlumacz_na_morsa(tekst):\n",
    "    tlumaczenie=\"\"\n",
    "    for litera in tekst.upper():\n",
    "        if litera not in slownik.keys():\n",
    "            raise UnknownSign(\"Nieznany znak\")\n",
    "        for k,v in slownik.items():\n",
    "            if litera == k:\n",
    "                tlumaczenie += v+\" \"\n",
    "                break;\n",
    "    return tlumaczenie\n",
    "\n",
    "tlumaczenie = tlumacz_na_morsa(tekst)\n",
    "\n",
    "print(\"\\ntłumaczenie tekstu:\\n\",tlumaczenie)\n",
    "\n",
    "#raise NotImplementedError()"
   ]
  },
  {
   "cell_type": "markdown",
   "metadata": {
    "deletable": false,
    "editable": false,
    "nbgrader": {
     "cell_type": "markdown",
     "checksum": "c87bcc30c66f0f9eefbf325af424975f",
     "grade": false,
     "grade_id": "cell-8d4257a410dea81d",
     "locked": true,
     "schema_version": 3,
     "solution": false
    }
   },
   "source": [
    "## Zadanie 1\n",
    "\n",
    "Uzupełnij program z __Ćwiczenia 3__ w taki sposób, aby w tekście tłumaczone były również cyfry, polskie znaki diakrytyczne, znaki interpunkcyjne i symbole. Zaimplementuj obsługę błędu w przypadku nierozpoznania znaku."
   ]
  },
  {
   "cell_type": "code",
   "execution_count": 37,
   "metadata": {
    "deletable": false,
    "nbgrader": {
     "cell_type": "code",
     "checksum": "3e9c4acbe96b9c11c25eb36988086157",
     "grade": true,
     "grade_id": "cell-e3420a362604903a",
     "locked": false,
     "points": 1,
     "schema_version": 3,
     "solution": true
    }
   },
   "outputs": [
    {
     "name": "stdout",
     "output_type": "stream",
     "text": [
      "tekst:\n",
      " Matematyka i informatyka jest super ąę123, .\n",
      "\n",
      "tłumaczenie tekstu:\n",
      " -- •- - • -- •- - -•-- -•- •- / •• / •• -• ••-• --- •-• -- •- - -•-- -•- •- / •--- • ••• - / ••• ••- •--• • •-• / •—•— ••—•• •———— ••——— •••—— ——••—— / •—•—•— \n"
     ]
    }
   ],
   "source": [
    "litery = ['A','B','C','D','E','F','G','H','I','J','K','L','M','N','O','P','Q','R','S','T','U',\n",
    "          'V','W','X','Y','Z',' ']\n",
    "mors = ['•-','-•••','-•-•','-••','•','••-•','--•','••••','••','•---','-•-','•-••','--','-•',\n",
    "        '---','•--•','--•-','•-•','•••','-','••-','•••-','•--','-••-','-•--','--••','/']\n",
    "litery = tuple(litery)\n",
    "mors = tuple(mors)\n",
    "\n",
    "dodatk_znaki = {'Ą' : '•—•—', 'Ć' : '—•—••', 'Ę' : '••—••', 'Ł' : '•—••—', 'Ń' : '——•——', 'Ó' : '———•',\n",
    "              'Ś' : '•••—•••', 'Ź' : '——••—'  , 'Ż' : '——••—•','0' : '—————', '1' : '•————',\n",
    "             '2' : '••———', '3' : '•••——', '4' : '••••—', '5' : '•••••', '6' : '—••••', '7' : '——•••',\n",
    "             '8' : '———••', '9' : '————•', '.' : '•—•—•—', '\\'' : '•————•', ',' : '——••——', \n",
    "             '\"' : '•—••—•','_' : '••——•—',':' : '———•••',';' : '—•—•—•','? ' : '—•—•——'\n",
    "             ,'!' : '-•-•--','–' : '—••••—','+' : '•—•—•','/' : '—••—•','(' : '—•——•',\n",
    "             ')' : '—•——•—','=' : '—•••—','@' : '•——•—•'}\n",
    "\n",
    "slownik = tworz_slownik()\n",
    "slownik.update(dodatk_znaki)\n",
    "\n",
    "tekst = 'Matematyka i informatyka jest super ąę123, .'\n",
    "print(\"tekst:\\n\", tekst)\n",
    "\n",
    "tlumaczenie=tlumacz_na_morsa(tekst)\n",
    "print(\"\\ntłumaczenie tekstu:\\n\",tlumaczenie)\n",
    "\n",
    "#raise NotImplementedError()"
   ]
  },
  {
   "cell_type": "markdown",
   "metadata": {
    "deletable": false,
    "editable": false,
    "nbgrader": {
     "cell_type": "markdown",
     "checksum": "0da9386cd4eda11158f8822cd3af1e2d",
     "grade": false,
     "grade_id": "cell-fea69fb6589610c6",
     "locked": true,
     "schema_version": 3,
     "solution": false
    }
   },
   "source": [
    "## Zadanie 2\n",
    "\n",
    "Wykorzystując słownik napisz translator alfabetu Morse'a na tekst. Przetłumacz poniższy tekst. Załóż, że znakiem rozdzielającym słowa w alfabecie Morse'a jest znak `/`. Zaimplementuj obsługę błędu w przypadku nierozpoznania znaku."
   ]
  },
  {
   "cell_type": "code",
   "execution_count": 42,
   "metadata": {
    "deletable": false,
    "nbgrader": {
     "cell_type": "code",
     "checksum": "e7c73a0f3da5b3dafc962c6058e2c528",
     "grade": true,
     "grade_id": "cell-9b479090231475a8",
     "locked": false,
     "points": 1,
     "schema_version": 3,
     "solution": true
    }
   },
   "outputs": [
    {
     "name": "stdout",
     "output_type": "stream",
     "text": [
      "tlumaczenie z morsa:\n",
      " MATEMATYKA I INFORMATYKA JEST SUPER!\n"
     ]
    }
   ],
   "source": [
    "tekst = '-- •- - • -- •- - -•-- -•- •- / •• / •• -• ••-• --- •-• -- •- - -•-- -•- •- / •--- • ••• - / ••• ••- •--• • •-• -•-•--'\n",
    "znaki = tekst.split(\" \")\n",
    "\n",
    "\n",
    "def tlumacz_z_morsa(znaki):\n",
    "    tlumaczenie=\"\"\n",
    "    for znak in znaki:\n",
    "        if znak not in slownik.values():\n",
    "            raise UnknownSign(\"Nieznany znak\")\n",
    "        for k,v in slownik.items():\n",
    "            if znak == v:\n",
    "                tlumaczenie+=k\n",
    "                break;\n",
    "    return tlumaczenie\n",
    "\n",
    "tlumaczenie = tlumacz_z_morsa(znaki)\n",
    "print(\"tlumaczenie z morsa:\\n\", tlumaczenie)\n",
    "\n",
    "#raise NotImplementedError()"
   ]
  },
  {
   "cell_type": "markdown",
   "metadata": {
    "deletable": false,
    "editable": false,
    "nbgrader": {
     "cell_type": "markdown",
     "checksum": "33616a1d8a5bc34203ac2f1aa132cd83",
     "grade": false,
     "grade_id": "cell-43e02728c4710d75",
     "locked": true,
     "schema_version": 3,
     "solution": false
    }
   },
   "source": [
    "## Zadanie 3\n",
    "\n",
    "Napisz funkcję przyjmującą dwa argumenty, zwracającą parę/krotkę: drugi argument oraz sumę obu argumentów. Wykorzystaj tę funkcję do napisania funkcji zwracającej zadany wyraz ciągu Fibonacciego. \n",
    "\n",
    "https://pl.wikipedia.org/wiki/Ci%C4%85g_Fibonacciego"
   ]
  },
  {
   "cell_type": "code",
   "execution_count": 43,
   "metadata": {
    "deletable": false,
    "nbgrader": {
     "cell_type": "code",
     "checksum": "49ce80ab9ef0ba5018b66f1ae7337393",
     "grade": true,
     "grade_id": "cell-977c88527395b830",
     "locked": false,
     "points": 1,
     "schema_version": 3,
     "solution": true
    }
   },
   "outputs": [
    {
     "name": "stdout",
     "output_type": "stream",
     "text": [
      "233\n"
     ]
    }
   ],
   "source": [
    "def fun(x,y):\n",
    "    return y,x+y\n",
    "\n",
    "def fibonacci(n):\n",
    "    a,b=0,1\n",
    "    ciag = [a]\n",
    "    for i in range(n):\n",
    "        ciag = ciag+[b]\n",
    "        a,b=fun(a,b)\n",
    "    return ciag[i+1]\n",
    "\n",
    "#raise NotImplementedError()\n",
    "\n",
    "print(fibonacci(13))"
   ]
  },
  {
   "cell_type": "markdown",
   "metadata": {
    "deletable": false,
    "editable": false,
    "nbgrader": {
     "cell_type": "markdown",
     "checksum": "b0b38852ca08e4131fed2add8ff4a412",
     "grade": false,
     "grade_id": "cell-0804a9e90b63cb34",
     "locked": true,
     "schema_version": 3,
     "solution": false,
     "task": false
    }
   },
   "source": [
    "## Zadanie 4\n",
    "\n",
    "Napisz funkcję 'rozmywającą' listę. Funkcja powinna jako argument przyjmować listę i wagi, utworzyć kopię przesłaniej listy, której każdy element (poza pierwszym i ostatnim) jest zamieniamy na średnią ważoną siebie oraz swoich bezpośrednich sąsiadów, z przesłanymi wagami. Funkcja powinna zwrócić nową listę – przesłana jako argument nie powinna być modyfikowana.\n",
    "Utwórz listę 20 losowych liczb i zaprezentuj działanie powyższej funkcji.\n",
    "Przykładowe wywołania i wyniki:\n",
    "``` python\n",
    "print( fun4( [3, 1, 2, 0, 4], (1,1,1)) )\n",
    "```\n",
    "\n",
    "`[3, 2.0, 1.0, 2.0, 4]`\n",
    "\n",
    "```python\n",
    "print( fun4( [3, 1, 2, 0, 4], (2,-1,2)) )\n",
    "```\n",
    "\n",
    "`[3, 3.0, 0.0, 4.0, 4]`"
   ]
  },
  {
   "cell_type": "code",
   "execution_count": 1,
   "metadata": {
    "deletable": false,
    "nbgrader": {
     "cell_type": "code",
     "checksum": "4856f85f2bcf3fa3165b85db4648ec18",
     "grade": true,
     "grade_id": "cell-86ce006af56f966e",
     "locked": false,
     "points": 1,
     "schema_version": 3,
     "solution": true,
     "task": false
    }
   },
   "outputs": [
    {
     "name": "stdout",
     "output_type": "stream",
     "text": [
      "[3, 2.3333333333333335, 0.0, 2.6666666666666665, 4] \n",
      "\n",
      "lista: [7, 4, 3, 4, 9, 8, 7, 1, 4, 1, 7, 3, 9, 5, 4, 4, 2, 2, 3, 8]\n",
      "\n",
      "średnia ważona: [7, 4.333333333333333, 3.0, 3.6666666666666665, 2.3333333333333335, 5.666666666666667, 3.3333333333333335, 5.666666666666667, -0.3333333333333333, 4.666666666666667, -0.6666666666666666, 6.666666666666667, 0.6666666666666666, 5.666666666666667, 3.3333333333333335, 2.0, 2.6666666666666665, 1.6666666666666667, 3.0, 8]\n"
     ]
    }
   ],
   "source": [
    "import random\n",
    "\n",
    "def fun4(lista,wagi):\n",
    "    nowa_lista = lista.copy()\n",
    "    for i in range(1,len(lista)-1):\n",
    "        nowa_lista[i] = (lista[i-1]*wagi[0]+lista[i]*wagi[1]+lista[i+1])/(wagi[0]+wagi[1]+wagi[2])\n",
    "    return nowa_lista\n",
    "\n",
    "lista = [3,1,2,0,4]\n",
    "wagi = (2,-1,2)\n",
    "\n",
    "print(fun4( [3, 1, 2, 0, 4], (2,-1,2)),\"\\n\")\n",
    "\n",
    "lista = [random.randrange(1,10) for i in range(20)]\n",
    "print(\"lista:\",lista)\n",
    "print(\"\\nśrednia ważona:\",fun4(lista,wagi))\n",
    "        \n",
    "#raise NotImplementedError()"
   ]
  },
  {
   "cell_type": "markdown",
   "metadata": {
    "deletable": false,
    "editable": false,
    "nbgrader": {
     "cell_type": "markdown",
     "checksum": "3ba662b36ff9dd1314e5bec3d45782d5",
     "grade": false,
     "grade_id": "cell-05b44e82560dccc4",
     "locked": true,
     "schema_version": 3,
     "solution": false,
     "task": false
    }
   },
   "source": [
    "## Zadanie 5\n",
    "\n",
    "Utwórz słownik `imię=>ocena`, zawierający oceny czterech przykładowych osób. Napisz funkcję przyjmującą jako argument słownik, wypisującą listę osób w kolejności alfabetycznej. Napisz funkcję przyjmującą jako argument słownik, wypisującą listę osób wraz z ocenami w dowolnej kolejności."
   ]
  },
  {
   "cell_type": "code",
   "execution_count": 49,
   "metadata": {
    "deletable": false,
    "nbgrader": {
     "cell_type": "code",
     "checksum": "b96ba71641f06767cd86225b1704ab01",
     "grade": true,
     "grade_id": "cell-802ecb70d80dc053",
     "locked": false,
     "points": 1,
     "schema_version": 3,
     "solution": true,
     "task": false
    }
   },
   "outputs": [
    {
     "name": "stdout",
     "output_type": "stream",
     "text": [
      "lista posortowana: \n",
      "Adam Ala Klaudia Michał\n",
      "\n",
      "lista uczniów:\n",
      "Adam : 3\n",
      "Michał : 5\n",
      "Ala : 5\n",
      "Klaudia : 2\n"
     ]
    }
   ],
   "source": [
    "slownik = {\"Adam\":'3', \"Michał\":\"5\", \"Ala\":\"5\",\"Klaudia\":\"2\"}\n",
    "\n",
    "def sortuj_alf(slownik):\n",
    "    lista = slownik.keys()\n",
    "    lista = sorted(lista)\n",
    "    print(*lista)\n",
    "    \n",
    "def wypisz(slownik):\n",
    "    for k,v in slownik.items():\n",
    "        print(k,\":\",v)\n",
    "        \n",
    "print(\"lista posortowana: \")\n",
    "sortuj_alf(slownik)\n",
    "\n",
    "print(\"\\nlista uczniów:\")\n",
    "wypisz(slownik)\n",
    "    \n",
    "#raise NotImplementedError()"
   ]
  },
  {
   "cell_type": "markdown",
   "metadata": {
    "deletable": false,
    "editable": false,
    "nbgrader": {
     "cell_type": "markdown",
     "checksum": "3d4d987291d24574c9076b998bcd6caf",
     "grade": false,
     "grade_id": "cell-649a9c0157cab4c5",
     "locked": true,
     "schema_version": 3,
     "solution": false,
     "task": false
    }
   },
   "source": [
    "## Zadanie 6\n",
    "\n",
    "Utwórz słownik słowników, `imię=>(kategoria=>ocena)`, przechowujący listę osób, oraz ocen z różnych kategorii (`kolokwium 1`, `odpowiedź ustna 2` itp). Napisz funkcję przyjmującą jako argument powyższy słownik, liczącą średnią arytmetyczną wszystkich ocen danej osoby, wypisującą listę osób których średnia ocen jest niższa od 3.0. Napisz funkcję wypisującą średnią ocen wszystkich osób z podanej kategorii (np. średnią ocen wszystkich osób za `python 1` itd.).\n"
   ]
  },
  {
   "cell_type": "code",
   "execution_count": 27,
   "metadata": {
    "deletable": false,
    "nbgrader": {
     "cell_type": "code",
     "checksum": "b099f15b6fddf42f0d18e40c1b2df792",
     "grade": true,
     "grade_id": "cell-79b1a8dc39c37fbd",
     "locked": false,
     "points": 1,
     "schema_version": 3,
     "solution": true,
     "task": false
    }
   },
   "outputs": [
    {
     "name": "stdout",
     "output_type": "stream",
     "text": [
      "['Paweł', 'Maria']\n",
      "\n",
      "kategoria: kolokwium 1 \n",
      "średnia:  3.5\n"
     ]
    }
   ],
   "source": [
    "dict_rate = {\n",
    "    \"Adam\": { \"kolokwium 1\": 5, \"kolokwium 2\": 4.5,\"lisp 1\" : 5 },\n",
    "    \"Natalia\": { \"kolokwium 1\": 4, \"kolokwium 2\": 3.5, \"lisp 1\" : 2 },\n",
    "    \"Paweł\": { \"kolokwium 1\": 3, \"kolokwium 2\": 2, \"lisp 1\" : 2 },\n",
    "    \"Maria\": { \"kolokwium 1\": 2, \"kolokwium 2\": 2, \"lisp 1\": 3 }\n",
    "}\n",
    "\n",
    "def fun6_1(dict_rate):\n",
    "    lista = []\n",
    "    for imie,kategoria in dict_rate.items():\n",
    "        suma = 0\n",
    "        for test,ocena in kategoria.items():\n",
    "            suma += ocena \n",
    "        if suma / len(kategoria.items()) < 3.0:\n",
    "            lista.append(imie)\n",
    "    return lista\n",
    "\n",
    "def fun6_2(dict_rate, tekst):\n",
    "    suma = 0\n",
    "    for imie,kategoria in dict_rate.items():\n",
    "        for test,ocena in kategoria.items():\n",
    "            if test == tekst:\n",
    "                suma += ocena\n",
    "    print(\"\\nkategoria:\",tekst,\"\\nśrednia: \",suma/len(dict_rate.keys()))\n",
    "\n",
    "#raise NotImplementedError()\n",
    "\n",
    "print(fun6_1(dict_rate))\n",
    "fun6_2(dict_rate, \"kolokwium 1\")\n",
    "\n"
   ]
  },
  {
   "cell_type": "markdown",
   "metadata": {
    "deletable": false,
    "editable": false,
    "nbgrader": {
     "cell_type": "markdown",
     "checksum": "390223a934e4f9453751e455cb2a25e1",
     "grade": false,
     "grade_id": "cell-8cbc019fa4f0e4f7",
     "locked": true,
     "schema_version": 3,
     "solution": false,
     "task": false
    }
   },
   "source": [
    "## Zadanie 7\n",
    "\n",
    "Utwórz słownik `imię=>wiek`. Napisz funkcję przyjmującą jako argument słownik, zwracającą słownik `imię=>długość snu`, wyliczającą zalecaną dzienną długość snu dla każdej z osób w przesłanym słowniku:\n",
    "\n",
    "- Osoby powyżej 200 roku życia uznawane są za nieumarłych, którzy powinni udać się na sen wieczny,\n",
    "- Osoby z niedodatnim wiekiem powinny zostać pominięte,\n",
    "- Dla pozostałych: \n",
    "\n",
    "$$długość\\ snu={\\frac{8\\ godzin}{log_{10}(wiek\\ w\\ latach)}}$$\n",
    "\n",
    "Powyższy wzór został zmyślony – proszę nie stosować się do niego :).\n",
    "\n",
    "Wykorzystaj mechanizm `dictionary comprehensions` oraz poniższy przykład:\n",
    "```python\n",
    "print(4 if True else 6)  # 4\n",
    "print(5 if False else 6) # 6\n",
    "\n",
    "slownik = {'a': 1, 'b': 2, 'c': 4, 'd': 1234,'e': -3}\n",
    "wynik = {'nowy_' + key: value if value > 0 else -value for key, value in slownik.items() if value < 10 }\n",
    "print(wynik)\n",
    "```\n",
    "`{'nowy_a': 1, 'nowy_b': 2, 'nowy_c': 4, 'nowy_e': 3}`\n",
    "\n",
    "Słownik `slownik` został wykorzystany do utworzenia nowego, którego klucze mają dopisany na początku tekst `nowy_`, złożony z wartości dodatnich ( `value if value > 0 else -value`), mniejszych niż 10 (`if value < 10`).\n",
    "\n"
   ]
  },
  {
   "cell_type": "code",
   "execution_count": 3,
   "metadata": {
    "deletable": false,
    "nbgrader": {
     "cell_type": "code",
     "checksum": "12fb7a98c63d1d0081320ce46deb8551",
     "grade": true,
     "grade_id": "cell-40019debf3e81e4f",
     "locked": false,
     "points": 1,
     "schema_version": 3,
     "solution": true,
     "task": false
    }
   },
   "outputs": [
    {
     "name": "stdout",
     "output_type": "stream",
     "text": [
      "{'Adam': 2.3521128303616483, 'Natalia': 'sen wieczny', 'Maria': 2.551431911230408}\n"
     ]
    }
   ],
   "source": [
    "import math\n",
    "dict_age = { \"Adam\": 30,\"Natalia\": 204,\"Paweł\": -2,\"Maria\": 23 }\n",
    "\n",
    "def fun7(dict_age):\n",
    "    dict_sl_ln = {k: (8.0/math.log(v)) if v < 200 else \"sen wieczny\" for k,v in dict_age.items() if v > 0}\n",
    "    return dict_sl_ln\n",
    "\n",
    "#raise NotImplementedError()\n",
    "print(fun7(dict_age))"
   ]
  },
  {
   "cell_type": "markdown",
   "metadata": {
    "deletable": false,
    "editable": false,
    "nbgrader": {
     "cell_type": "markdown",
     "checksum": "a5df2f1655038aa58727c4e8a10fa63f",
     "grade": false,
     "grade_id": "cell-0563d4899b9418cc",
     "locked": true,
     "schema_version": 3,
     "solution": false,
     "task": false
    }
   },
   "source": [
    "## Zadanie 8\n",
    "\n",
    "Utwórz tablicę dwuwymiarową wielkości 10 na 10 elementów, wypełnij ją wartościami `False` oraz w losowych 20 miejscach wartościami `True` (upewnij się, że wylosowane pole nie ma wartości `True`). Napisz program pozwalający użytkownikowi wybrać element tablicy (użytkownik ma wpisać dwie liczby całkowite `x`,`y`). Wybrane współrzędne powinny zostać zapisane w pewnym zbiorze (`set`) jako krotka `(x, y)`. Jeśli użytkownik podał drugi raz te same współrzędne, powinna zostać wypisana informacja o tym (np. `\"Już tam strzelano\"`), a program powinien wrócić do wyboru współrzędnych. Jeśli podany element tablicy ma wartość `True`, wypisany powinien zostać tekst `\"Trafiony!\"`, w przeciwnym razie `\"Pudło!\"`. Program ma prosić o podanie współrzędnych do momentu zestrzelenia wszystkich wartości `True`.\n",
    "Aby dodać element do zbioru można wykorzystać operator `|` (pionowa kreska, OR) lub metodę `add`. Jak usunąć element ze zbioru? Jak uzyskać różnicę lub część wspólną (przecięcie, iloczyn) dwóch zbiorów?"
   ]
  },
  {
   "cell_type": "code",
   "execution_count": 128,
   "metadata": {
    "deletable": false,
    "nbgrader": {
     "cell_type": "code",
     "checksum": "9c8364571e959c73897bdba35f6f544d",
     "grade": true,
     "grade_id": "cell-b2b70a1aa7d62831",
     "locked": false,
     "points": 1,
     "schema_version": 3,
     "solution": true,
     "task": false
    }
   },
   "outputs": [
    {
     "name": "stdout",
     "output_type": "stream",
     "text": [
      "False False False False False False False False False True \n",
      "\n",
      "False False False False False False False True False False \n",
      "\n",
      "False False False False False False False False True False \n",
      "\n",
      "False False False False False False True False False False \n",
      "\n",
      "False True False False False False False False False False \n",
      "\n",
      "False False False False True False False False False False \n",
      "\n",
      "False False True False False False False False False False \n",
      "\n",
      "False False False True False False False False False False \n",
      "\n",
      "False False False False False True False False False False \n",
      "\n",
      "True False False False False False False False False False \n",
      "\n"
     ]
    },
    {
     "ename": "KeyboardInterrupt",
     "evalue": "Interrupted by user",
     "output_type": "error",
     "traceback": [
      "\u001b[1;31m---------------------------------------------------------------------------\u001b[0m",
      "\u001b[1;31mKeyboardInterrupt\u001b[0m                         Traceback (most recent call last)",
      "\u001b[1;32m~\\AppData\\Local\\Temp/ipykernel_1276/4125159265.py\u001b[0m in \u001b[0;36m<module>\u001b[1;34m\u001b[0m\n\u001b[0;32m     27\u001b[0m \u001b[0mhit\u001b[0m \u001b[1;33m=\u001b[0m \u001b[1;36m0\u001b[0m\u001b[1;33m\u001b[0m\u001b[1;33m\u001b[0m\u001b[0m\n\u001b[0;32m     28\u001b[0m \u001b[1;32mwhile\u001b[0m \u001b[0mhit\u001b[0m \u001b[1;33m<\u001b[0m \u001b[1;36m10\u001b[0m\u001b[1;33m:\u001b[0m\u001b[1;33m\u001b[0m\u001b[1;33m\u001b[0m\u001b[0m\n\u001b[1;32m---> 29\u001b[1;33m     \u001b[0mx\u001b[0m \u001b[1;33m=\u001b[0m \u001b[0mint\u001b[0m\u001b[1;33m(\u001b[0m\u001b[0minput\u001b[0m\u001b[1;33m(\u001b[0m\u001b[1;34m\"Podaj wspolrzedne (x): \"\u001b[0m\u001b[1;33m)\u001b[0m\u001b[1;33m)\u001b[0m\u001b[1;33m\u001b[0m\u001b[1;33m\u001b[0m\u001b[0m\n\u001b[0m\u001b[0;32m     30\u001b[0m     \u001b[0my\u001b[0m \u001b[1;33m=\u001b[0m \u001b[0mint\u001b[0m\u001b[1;33m(\u001b[0m\u001b[0minput\u001b[0m\u001b[1;33m(\u001b[0m\u001b[1;34m\"Podaj wspolrzedne (y): \"\u001b[0m\u001b[1;33m)\u001b[0m\u001b[1;33m)\u001b[0m\u001b[1;33m\u001b[0m\u001b[1;33m\u001b[0m\u001b[0m\n\u001b[0;32m     31\u001b[0m     \u001b[1;32mif\u001b[0m \u001b[1;33m(\u001b[0m\u001b[0mx\u001b[0m\u001b[1;33m,\u001b[0m\u001b[0my\u001b[0m\u001b[1;33m)\u001b[0m \u001b[1;32min\u001b[0m \u001b[0mguesses\u001b[0m\u001b[1;33m:\u001b[0m\u001b[1;33m\u001b[0m\u001b[1;33m\u001b[0m\u001b[0m\n",
      "\u001b[1;32mD:\\Anaconda\\lib\\site-packages\\ipykernel\\kernelbase.py\u001b[0m in \u001b[0;36mraw_input\u001b[1;34m(self, prompt)\u001b[0m\n\u001b[0;32m   1004\u001b[0m                 \u001b[1;34m\"raw_input was called, but this frontend does not support input requests.\"\u001b[0m\u001b[1;33m\u001b[0m\u001b[1;33m\u001b[0m\u001b[0m\n\u001b[0;32m   1005\u001b[0m             )\n\u001b[1;32m-> 1006\u001b[1;33m         return self._input_request(\n\u001b[0m\u001b[0;32m   1007\u001b[0m             \u001b[0mstr\u001b[0m\u001b[1;33m(\u001b[0m\u001b[0mprompt\u001b[0m\u001b[1;33m)\u001b[0m\u001b[1;33m,\u001b[0m\u001b[1;33m\u001b[0m\u001b[1;33m\u001b[0m\u001b[0m\n\u001b[0;32m   1008\u001b[0m             \u001b[0mself\u001b[0m\u001b[1;33m.\u001b[0m\u001b[0m_parent_ident\u001b[0m\u001b[1;33m[\u001b[0m\u001b[1;34m\"shell\"\u001b[0m\u001b[1;33m]\u001b[0m\u001b[1;33m,\u001b[0m\u001b[1;33m\u001b[0m\u001b[1;33m\u001b[0m\u001b[0m\n",
      "\u001b[1;32mD:\\Anaconda\\lib\\site-packages\\ipykernel\\kernelbase.py\u001b[0m in \u001b[0;36m_input_request\u001b[1;34m(self, prompt, ident, parent, password)\u001b[0m\n\u001b[0;32m   1049\u001b[0m             \u001b[1;32mexcept\u001b[0m \u001b[0mKeyboardInterrupt\u001b[0m\u001b[1;33m:\u001b[0m\u001b[1;33m\u001b[0m\u001b[1;33m\u001b[0m\u001b[0m\n\u001b[0;32m   1050\u001b[0m                 \u001b[1;31m# re-raise KeyboardInterrupt, to truncate traceback\u001b[0m\u001b[1;33m\u001b[0m\u001b[1;33m\u001b[0m\u001b[0m\n\u001b[1;32m-> 1051\u001b[1;33m                 \u001b[1;32mraise\u001b[0m \u001b[0mKeyboardInterrupt\u001b[0m\u001b[1;33m(\u001b[0m\u001b[1;34m\"Interrupted by user\"\u001b[0m\u001b[1;33m)\u001b[0m \u001b[1;32mfrom\u001b[0m \u001b[1;32mNone\u001b[0m\u001b[1;33m\u001b[0m\u001b[1;33m\u001b[0m\u001b[0m\n\u001b[0m\u001b[0;32m   1052\u001b[0m             \u001b[1;32mexcept\u001b[0m \u001b[0mException\u001b[0m\u001b[1;33m:\u001b[0m\u001b[1;33m\u001b[0m\u001b[1;33m\u001b[0m\u001b[0m\n\u001b[0;32m   1053\u001b[0m                 \u001b[0mself\u001b[0m\u001b[1;33m.\u001b[0m\u001b[0mlog\u001b[0m\u001b[1;33m.\u001b[0m\u001b[0mwarning\u001b[0m\u001b[1;33m(\u001b[0m\u001b[1;34m\"Invalid Message:\"\u001b[0m\u001b[1;33m,\u001b[0m \u001b[0mexc_info\u001b[0m\u001b[1;33m=\u001b[0m\u001b[1;32mTrue\u001b[0m\u001b[1;33m)\u001b[0m\u001b[1;33m\u001b[0m\u001b[1;33m\u001b[0m\u001b[0m\n",
      "\u001b[1;31mKeyboardInterrupt\u001b[0m: Interrupted by user"
     ]
    }
   ],
   "source": [
    "import random\n",
    "\n",
    "n=10\n",
    "random_spots1 = []\n",
    "random_spots2 = []\n",
    "k=False\n",
    "while k==False:\n",
    "    rand_numb1 = random.randrange(0,10)\n",
    "    rand_numb2 = random.randrange(0,10)\n",
    "    if rand_numb1 not in random_spots1 and rand_numb2 not in random_spots2:\n",
    "        random_spots1.append(rand_numb1)\n",
    "        random_spots2.append(rand_numb2)\n",
    "    if len(random_spots1)==10 and len(random_spots2)==10:\n",
    "        k=True\n",
    "\n",
    "matrix = [[False]*10 for i in range(10)]\n",
    "for i in range(10):\n",
    "        matrix[random_spots1[i]][random_spots2[i]] = True\n",
    "\n",
    "#plansza\n",
    "for i in range(n):\n",
    "    for j in range(n):\n",
    "        print(matrix[i][j],end=' ')\n",
    "    print(\"\\n\")\n",
    "    \n",
    "guesses = set()\n",
    "hit = 0\n",
    "while hit < 10:\n",
    "    x = int(input(\"Podaj wspolrzedne (x): \"))\n",
    "    y = int(input(\"Podaj wspolrzedne (y): \"))\n",
    "    if (x,y) in guesses:\n",
    "        print(\"Już tam strzelano\")\n",
    "        hit-=1\n",
    "        continue\n",
    "    guesses.add((x,y))\n",
    "    if matrix[x][y] == True:\n",
    "        print(\"Trafiony!\")\n",
    "        hit+=1\n",
    "    else: \n",
    "        print(\"Pudło!\")\n",
    "        \n",
    "#raise NotImplementedError()"
   ]
  },
  {
   "cell_type": "code",
   "execution_count": 150,
   "metadata": {},
   "outputs": [
    {
     "name": "stdout",
     "output_type": "stream",
     "text": [
      "dict_items([(1, 5), (3, 0), (2, 8), (7, 8), (9, 7), (5, 7), (4, 6)])\n",
      "False False False False False False False False False False \n",
      "\n",
      "False False False False False True False False False False \n",
      "\n",
      "False False False False False False False False True False \n",
      "\n",
      "True False False False False False False False False False \n",
      "\n",
      "False False False False False False True False False False \n",
      "\n",
      "False False False False False False False True False False \n",
      "\n",
      "False False False False False False False False False False \n",
      "\n",
      "False False False False False False False False True False \n",
      "\n",
      "False False False False False False False False False False \n",
      "\n",
      "False False False False False False False True False False \n",
      "\n"
     ]
    }
   ],
   "source": [
    "import random\n",
    "\n",
    "n=10\n",
    "random_spots1 = {}\n",
    "k=False\n",
    "\n",
    "while k==False:\n",
    "    m=False\n",
    "    rand_numb1 = random.randrange(0,10)\n",
    "    rand_numb2 = random.randrange(0,10)\n",
    "    for key,val in random_spots1.items():\n",
    "        if key==rand_numb1 and val==rand_numb2:\n",
    "            m=True\n",
    "            break\n",
    "    if m==True:\n",
    "        break\n",
    "    random_spots1.update({rand_numb1:rand_numb2})\n",
    "    if random_spots1.items()==20:\n",
    "        k=True\n",
    "    \n",
    "print(random_spots1.items())\n",
    "    \n",
    "matrix = [[False]*10 for i in range(10)]\n",
    "for key,val in random_spots1.items():\n",
    "        matrix[key][val] = True\n",
    "\n",
    "for i in range(n):\n",
    "    for j in range(n):\n",
    "        print(matrix[i][j],end=' ')\n",
    "    print(\"\\n\")"
   ]
  },
  {
   "cell_type": "code",
   "execution_count": null,
   "metadata": {},
   "outputs": [],
   "source": []
  }
 ],
 "metadata": {
  "kernelspec": {
   "display_name": "Python 3 (ipykernel)",
   "language": "python",
   "name": "python3"
  },
  "language_info": {
   "codemirror_mode": {
    "name": "ipython",
    "version": 3
   },
   "file_extension": ".py",
   "mimetype": "text/x-python",
   "name": "python",
   "nbconvert_exporter": "python",
   "pygments_lexer": "ipython3",
   "version": "3.9.7"
  }
 },
 "nbformat": 4,
 "nbformat_minor": 2
}
