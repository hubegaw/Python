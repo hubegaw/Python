{
 "cells": [
  {
   "cell_type": "markdown",
   "metadata": {},
   "source": [
    "# Języki symboliczne - rok akademicki 2021/2022\n",
    "\n",
    "Przed rozpoczęciem pracy z notatnikiem zmień jego nazwę zgodnie z wzorem: `NrAlbumu_Nazwisko_Imie_PoprzedniaNazwa`\n",
    "\n",
    "Przed wysłaniem notatnika **upewnij się jeszcze raz** że zmieniłeś nazwę i że rozwiązałeś wszystkie zadania/ćwiczenia, w szczególności, że uzupełniłeś wszystkie pola `YOUR CODE HERE` oraz `YOUR ANSWER HERE`."
   ]
  },
  {
   "cell_type": "markdown",
   "metadata": {
    "deletable": false,
    "editable": false,
    "nbgrader": {
     "cell_type": "markdown",
     "checksum": "5822d2ba0796ccbb9da48f156ec51b37",
     "grade": false,
     "grade_id": "cell-4aca44267419a21f",
     "locked": true,
     "schema_version": 3,
     "solution": false
    }
   },
   "source": [
    "# Temat: Zgłaszanie i obsługa wyjątków. Klasy wyjątków.\n",
    "Zapoznaj się z treścią niniejszego notatnika czytając i wykonując go komórka po komórce. Wykonaj napotkane zadania/ćwiczenia.\n",
    "\n",
    "## Obsługa wyjątków\n",
    "\n",
    "- Błędy wykryte podczas wykonania nazywane są wyjątkami i niekoniecznie muszą zakończyć działanie programu.\n",
    "- Wyjątki możemy zgłaszać lub je obsługiwać (przechwytywać).\n",
    "- Większość wyjatków nie jest obsługiwana przez programy, objawiają się one w komunikatach o błędzie.\n",
    "- Do zgłaszania wyjatków służą instrukcje: `raise` i `assert`.\n",
    "- Do obsługi wyjątków służą instrukcje: `try` i `except`.\n",
    "\n",
    "Wbudowane klasy wyjątków: https://docs.python.org/3/library/exceptions.html?highlight=built%20exceptions\n",
    "\n",
    "\n",
    "### Błędy i wyjątki.\n",
    "\n",
    "Błędy składni (parsingu, ang. SYNTAX ERRORS)."
   ]
  },
  {
   "cell_type": "code",
   "execution_count": 1,
   "metadata": {},
   "outputs": [
    {
     "ename": "SyntaxError",
     "evalue": "invalid syntax (Temp/ipykernel_20036/2038099295.py, line 2)",
     "output_type": "error",
     "traceback": [
      "\u001b[1;36m  File \u001b[1;32m\"C:\\Users\\huber\\AppData\\Local\\Temp/ipykernel_20036/2038099295.py\"\u001b[1;36m, line \u001b[1;32m2\u001b[0m\n\u001b[1;33m    while True print('hello world')\u001b[0m\n\u001b[1;37m               ^\u001b[0m\n\u001b[1;31mSyntaxError\u001b[0m\u001b[1;31m:\u001b[0m invalid syntax\n"
     ]
    }
   ],
   "source": [
    "# błędy składni\n",
    "while True print('hello world')"
   ]
  },
  {
   "cell_type": "markdown",
   "metadata": {
    "deletable": false,
    "editable": false,
    "nbgrader": {
     "cell_type": "markdown",
     "checksum": "15852d850d637e15d2857a88c178b1ef",
     "grade": false,
     "grade_id": "cell-5486e3275aedc8fe",
     "locked": true,
     "schema_version": 3,
     "solution": false,
     "task": false
    }
   },
   "source": [
    "### Wyjątki \n",
    "\n",
    "- Nawet gdy wyrażenie jest składniowo poprawne, może spowodować błąd podczas próby wykonania go\n",
    "- Błędy wykryte podczas wykonania nazywane są wyjątkami i niekoniecznie muszą zakończyć program\n",
    "- Większość wyjątków nie jest obsługiwana przez programy i objawiają się w komunikatach o błędzie, jak poniżej"
   ]
  },
  {
   "cell_type": "code",
   "execution_count": 2,
   "metadata": {},
   "outputs": [
    {
     "ename": "ZeroDivisionError",
     "evalue": "division by zero",
     "output_type": "error",
     "traceback": [
      "\u001b[1;31m---------------------------------------------------------------------------\u001b[0m",
      "\u001b[1;31mZeroDivisionError\u001b[0m                         Traceback (most recent call last)",
      "\u001b[1;32m~\\AppData\\Local\\Temp/ipykernel_20036/3799778317.py\u001b[0m in \u001b[0;36m<module>\u001b[1;34m\u001b[0m\n\u001b[0;32m      1\u001b[0m \u001b[1;31m# błąd dzielenia przez zero - wbudowana klasa wyjątku\u001b[0m\u001b[1;33m\u001b[0m\u001b[1;33m\u001b[0m\u001b[0m\n\u001b[1;32m----> 2\u001b[1;33m \u001b[1;36m20\u001b[0m\u001b[1;33m/\u001b[0m\u001b[1;36m0\u001b[0m\u001b[1;33m\u001b[0m\u001b[1;33m\u001b[0m\u001b[0m\n\u001b[0m",
      "\u001b[1;31mZeroDivisionError\u001b[0m: division by zero"
     ]
    }
   ],
   "source": [
    "# błąd dzielenia przez zero - wbudowana klasa wyjątku\n",
    "20/0 "
   ]
  },
  {
   "cell_type": "code",
   "execution_count": 3,
   "metadata": {},
   "outputs": [
    {
     "ename": "TypeError",
     "evalue": "unsupported operand type(s) for +: 'int' and 'str'",
     "output_type": "error",
     "traceback": [
      "\u001b[1;31m---------------------------------------------------------------------------\u001b[0m",
      "\u001b[1;31mTypeError\u001b[0m                                 Traceback (most recent call last)",
      "\u001b[1;32m~\\AppData\\Local\\Temp/ipykernel_20036/3919613768.py\u001b[0m in \u001b[0;36m<module>\u001b[1;34m\u001b[0m\n\u001b[0;32m      1\u001b[0m \u001b[1;31m# błąd typów - wbudowana klasa wyjątku\u001b[0m\u001b[1;33m\u001b[0m\u001b[1;33m\u001b[0m\u001b[0m\n\u001b[1;32m----> 2\u001b[1;33m \u001b[1;36m2\u001b[0m \u001b[1;33m+\u001b[0m \u001b[1;34m'a'\u001b[0m\u001b[1;33m\u001b[0m\u001b[1;33m\u001b[0m\u001b[0m\n\u001b[0m",
      "\u001b[1;31mTypeError\u001b[0m: unsupported operand type(s) for +: 'int' and 'str'"
     ]
    }
   ],
   "source": [
    "# błąd typów - wbudowana klasa wyjątku\n",
    "2 + 'a' "
   ]
  },
  {
   "cell_type": "code",
   "execution_count": 4,
   "metadata": {},
   "outputs": [
    {
     "ename": "NameError",
     "evalue": "name 'spam' is not defined",
     "output_type": "error",
     "traceback": [
      "\u001b[1;31m---------------------------------------------------------------------------\u001b[0m",
      "\u001b[1;31mNameError\u001b[0m                                 Traceback (most recent call last)",
      "\u001b[1;32m~\\AppData\\Local\\Temp/ipykernel_20036/2227099779.py\u001b[0m in \u001b[0;36m<module>\u001b[1;34m\u001b[0m\n\u001b[0;32m      1\u001b[0m \u001b[1;31m# błąd definicji zmiennej - wbudowana klasa wyjątku\u001b[0m\u001b[1;33m\u001b[0m\u001b[1;33m\u001b[0m\u001b[0m\n\u001b[1;32m----> 2\u001b[1;33m \u001b[1;36m4\u001b[0m \u001b[1;33m+\u001b[0m \u001b[0mspam\u001b[0m\u001b[1;33m*\u001b[0m\u001b[1;36m3\u001b[0m\u001b[1;33m\u001b[0m\u001b[1;33m\u001b[0m\u001b[0m\n\u001b[0m",
      "\u001b[1;31mNameError\u001b[0m: name 'spam' is not defined"
     ]
    }
   ],
   "source": [
    "# błąd definicji zmiennej - wbudowana klasa wyjątku\n",
    "4 + spam*3"
   ]
  },
  {
   "cell_type": "markdown",
   "metadata": {
    "deletable": false,
    "editable": false,
    "nbgrader": {
     "cell_type": "markdown",
     "checksum": "c9cff4417db7e35e390fe16f2776c2f1",
     "grade": false,
     "grade_id": "cell-775dca117afef02c",
     "locked": true,
     "schema_version": 3,
     "solution": false
    }
   },
   "source": [
    "### Obsługa wyjątków. \n",
    "\n",
    "Składnia polecenia do obsługi (przechwytywania) wyjatków:\n",
    "```python \n",
    "try:\n",
    "    wykonaj instrukcje\n",
    "except Error_1:\n",
    "    # obsługa błędu Error_1\n",
    "except Error_2:\n",
    "    # obsługa błędu Error_2  \n",
    "else:\n",
    "    instrukcje\n",
    "    \n",
    "```\n",
    "- Na początku wykonywana jest klauzula `try:` (czyli instrukcje pomiędzy `try` a `except`). Jeżeli nie pojawi sie żaden wyjątek klauzula `except` jest pomijana i wykonanie instrukcji `try:` uważa sie za zakończone.\n",
    "- Jeżeli podczas wykonywania klauzuli `try:` pojawi sie wyjątek, reszta niewykonanych instrukcji jest pomijana.\n",
    "- interpreter szuka klauzuli `except` odpowiadającej zgłoszonemu wyjątkowi. Jeżeli ją znajdzie przekazuje sterowanie do tego bloku.\n",
    "- W przypadku pojawienia sie wyjątku, który nie zostanie dopasowany do żadnego z wyjątków wymienionych w klauzuli `except`, zostaje on przekazany do następnych, zewnętrznych instrukcji `try`.\n",
    "- Jeżeli również tam nie zostanie znaleziony odpowiadajacy mu blok `except`, wyjątek ten nie zostanie wyłapany, stanie się nieobsłużonym wyjątkiem, a wykonywanie programu zostanie wstrzymane wraz z pojawieniem się komunikatu.\n",
    "- Instrukcja `try except` wyposażona jest w opcjonalną klauzule `else`, która jeżeli występuje to musi pojawić się za wszystkimi podanymi blokami `except`. Można po niej umieścić kod, który zostanie wykonany, jeżeli nie zostanie zgłoszony wyjątek.\n",
    "\n",
    "#### Przykłady:"
   ]
  },
  {
   "cell_type": "code",
   "execution_count": 5,
   "metadata": {},
   "outputs": [
    {
     "name": "stdout",
     "output_type": "stream",
     "text": [
      "Podaj nazwę pliku: dane.txt\n",
      "Idzie Grześ\n",
      "Przez wieś,\n",
      "Worek piasku niesie,\n",
      "A przez dziurkę\n",
      "Piasek ciurkiem\n",
      "Sypie się za Grzesiem.\n"
     ]
    }
   ],
   "source": [
    "# obsługa wyjątków, które mogą pojawić się przy otwieraniu pliku.\n",
    "name = input('Podaj nazwę pliku: ')\n",
    "try:\n",
    "    f = open(name,'r')\n",
    "    text = f.read()\n",
    "except IOError:\n",
    "    print('Nie można otworzyć pliku:', name)\n",
    "except EOFError:    \n",
    "    print('EOF:', name)\n",
    "except PermissionError:\n",
    "    print('Brak praw dostępu do pliku:', name)\n",
    "    \n",
    "print(text)\n",
    "f.close()"
   ]
  },
  {
   "cell_type": "markdown",
   "metadata": {
    "deletable": false,
    "editable": false,
    "nbgrader": {
     "cell_type": "markdown",
     "checksum": "548ee0b975c97c57ce2122af2ca36d8d",
     "grade": false,
     "grade_id": "cell-52542adc6b3d1ed5",
     "locked": true,
     "schema_version": 3,
     "solution": false
    }
   },
   "source": [
    "To samo ale z użyciem klauzuli `else`."
   ]
  },
  {
   "cell_type": "code",
   "execution_count": 6,
   "metadata": {},
   "outputs": [
    {
     "name": "stdout",
     "output_type": "stream",
     "text": [
      "Podaj nazwę pliku: dane.txt\n",
      "Idzie Grześ\n",
      "Przez wieś,\n",
      "Worek piasku niesie,\n",
      "A przez dziurkę\n",
      "Piasek ciurkiem\n",
      "Sypie się za Grzesiem.\n"
     ]
    }
   ],
   "source": [
    "name = input('Podaj nazwę pliku: ')\n",
    "try:\n",
    "    f = open(name,'r')\n",
    "    text = f.read()\n",
    "except IOError:\n",
    "    print('Nie można otworzyć pliku:', name)\n",
    "except EOFError:    \n",
    "    print('EOF:', name)\n",
    "except PermissionError:\n",
    "    print('Brak praw dostępu do pliku:', name)\n",
    "else:    \n",
    "    print(text)\n",
    "    f.close()"
   ]
  },
  {
   "cell_type": "markdown",
   "metadata": {
    "deletable": false,
    "editable": false,
    "nbgrader": {
     "cell_type": "markdown",
     "checksum": "2fe8524138a2b5177fc2c82964476819",
     "grade": false,
     "grade_id": "cell-eaae7b2e16877554",
     "locked": true,
     "schema_version": 3,
     "solution": false
    }
   },
   "source": [
    "Do obsługi kilku wyjatków można użyć jednego bloku `except:`"
   ]
  },
  {
   "cell_type": "code",
   "execution_count": 7,
   "metadata": {},
   "outputs": [
    {
     "name": "stdout",
     "output_type": "stream",
     "text": [
      "Podaj nazwę pliku: h\n",
      "Obsługa błędów I/O, EOF, prawa dostępu dla pliku h\n"
     ]
    }
   ],
   "source": [
    "name = input('Podaj nazwę pliku: ')\n",
    "try:\n",
    "    f = open(name,'r')\n",
    "    text = f.read()\n",
    "except (IOError, EOFError, PermissionError):\n",
    "    print('Obsługa błędów I/O, EOF, prawa dostępu dla pliku', name)\n",
    "else:    \n",
    "    print(text)\n",
    "    f.close()    "
   ]
  },
  {
   "cell_type": "markdown",
   "metadata": {
    "deletable": false,
    "editable": false,
    "nbgrader": {
     "cell_type": "markdown",
     "checksum": "c636362029b48cb1300bd493b48a7588",
     "grade": false,
     "grade_id": "cell-8e09e62bb96168f8",
     "locked": true,
     "schema_version": 3,
     "solution": false,
     "task": false
    }
   },
   "source": [
    "Wyjątek może pojawić się z przypisaną sobie wartością - argumentem wyjątku. \n",
    "- Obecność i typ tej wartości zależy od rodzaju wyjątku.\n",
    "- Jeżeli chce się poznać tę wartość, należy podać nazwę zmiennej (lub listę zamiennych) za nazwą typu wyjątku w klauzuli `except`"
   ]
  },
  {
   "cell_type": "code",
   "execution_count": 8,
   "metadata": {},
   "outputs": [
    {
     "name": "stdout",
     "output_type": "stream",
     "text": [
      "Podaj nazwę pliku: h\n",
      "Nie można otworzyć pliku: h\n",
      "1)  <class 'FileNotFoundError'>\n",
      "2)  (2, 'No such file or directory')\n",
      "3)  [Errno 2] No such file or directory: 'h'\n"
     ]
    }
   ],
   "source": [
    "name = input('Podaj nazwę pliku: ')\n",
    "try:\n",
    "    f = open(name,'r')\n",
    "    text = f.read()\n",
    "except IOError as inst: # inst wartość przypisana do wyjątku IOError \n",
    "    print('Nie można otworzyć pliku:', name)\n",
    "    print('1) ',type(inst))   # instancja wyjątku\n",
    "    print('2) ',inst.args)    # argumenty przechowywane w .args - (krotka)\n",
    "    print('3) ',inst)         # bezpośrednie wypisanie argumentów - __str()__\n",
    "else:    \n",
    "    print(text)\n",
    "    f.close()"
   ]
  },
  {
   "cell_type": "code",
   "execution_count": 9,
   "metadata": {},
   "outputs": [
    {
     "name": "stdout",
     "output_type": "stream",
     "text": [
      "Podaj nazwę pliku: k\n",
      "Nie można otworzyć pliku: k\n",
      "(<class 'FileNotFoundError'>, FileNotFoundError(2, 'No such file or directory'))\n"
     ]
    }
   ],
   "source": [
    "# te same informacje można uzyskać przy pomocy funkcji sys.exc_info()\n",
    "import sys\n",
    "name = input('Podaj nazwę pliku: ')\n",
    "try:\n",
    "    f = open(name,'r')\n",
    "    text = f.read()\n",
    "except IOError:  \n",
    "    print('Nie można otworzyć pliku:', name)\n",
    "    print(sys.exc_info()[:2]) # funkcja zwraca krotkę, która zawierają inf. o obecnie obsługiwanym wyjątku\n",
    "else:    \n",
    "    print(text)\n",
    "    f.close()"
   ]
  },
  {
   "cell_type": "markdown",
   "metadata": {
    "deletable": false,
    "editable": false,
    "nbgrader": {
     "cell_type": "markdown",
     "checksum": "04e702c8390d312f1adc40af7d3a24ca",
     "grade": false,
     "grade_id": "cell-10a6f8a24c53b500",
     "locked": true,
     "schema_version": 3,
     "solution": false,
     "task": false
    }
   },
   "source": [
    "Obsługa wyjątków następuje nie tylko po zgłoszeniu wyjątku w ich klauzuli `try:` ale także w przypadku, gdy pojawią się one w funkcjach wywoływanych w `try:` (nawet pośrednio)."
   ]
  },
  {
   "cell_type": "code",
   "execution_count": 10,
   "metadata": {},
   "outputs": [
    {
     "name": "stdout",
     "output_type": "stream",
     "text": [
      "obsługa wyjątku:  division by zero\n"
     ]
    }
   ],
   "source": [
    "def to_blad():\n",
    "    x = 1 / 0\n",
    "\n",
    "def fun():\n",
    "    to_blad()\n",
    "     \n",
    "try:\n",
    "    fun()\n",
    "except ZeroDivisionError as err:\n",
    "    print('obsługa wyjątku: ', err)"
   ]
  },
  {
   "cell_type": "markdown",
   "metadata": {
    "deletable": false,
    "editable": false,
    "nbgrader": {
     "cell_type": "markdown",
     "checksum": "f0ba41a154fd6c6bf0dbac598fd54699",
     "grade": false,
     "grade_id": "cell-dcc979a83fd389bf",
     "locked": true,
     "schema_version": 3,
     "solution": false
    }
   },
   "source": [
    "#### Klauzula `finally:`\n",
    "Dodatkowa klauzula `finally:` \n",
    "- jest wykonywana niezależnie od tego, czy pojawił się wyjątek, czy też nie. \n",
    "- kod zawarty w tym bloku jest również wykonywany, gdy blok `try` zostanie „opuszczony” za pomocą instrukcji `break`, `continue` lub `return`. \n",
    "- instrukcja ta nie służy do przechwytywania błędów.\n",
    "- służy do definiowania działań, mających na celu dokonanie koniecznych porządków (ang. clean up actions), w praktycznych zastosowaniach jest przydatna do zwalniania zasobów zewnętrznych (takich jak pliki czy połączenia sieciowe) niezależnie od tego jak te zasoby były użyte."
   ]
  },
  {
   "cell_type": "code",
   "execution_count": 11,
   "metadata": {},
   "outputs": [
    {
     "name": "stdout",
     "output_type": "stream",
     "text": [
      "Podaj nazwę pliku: l\n",
      "Obsługa błędów I/O, EOF, prawa dostępu dla pliku l\n",
      "Blok finally:\n"
     ]
    }
   ],
   "source": [
    "name = input('Podaj nazwę pliku: ')\n",
    "try:\n",
    "    f = open(name,'r')\n",
    "    text = f.read()\n",
    "except (IOError, EOFError, PermissionError):\n",
    "    print('Obsługa błędów I/O, EOF, prawa dostępu dla pliku', name)\n",
    "else:    \n",
    "    print(text)\n",
    "    f.close()\n",
    "finally:\n",
    "    print('Blok finally:')"
   ]
  },
  {
   "cell_type": "markdown",
   "metadata": {
    "deletable": false,
    "editable": false,
    "nbgrader": {
     "cell_type": "markdown",
     "checksum": "9ec55b5568f28f20e13cd3c904bcb13d",
     "grade": false,
     "grade_id": "cell-bb3d591d0a244ab0",
     "locked": true,
     "schema_version": 3,
     "solution": false
    }
   },
   "source": [
    "### Ćwiczenie 1\n",
    "Napisz funkcję `podziel()`, której argumentami formalnymi są dwie zmienne `x`, i `y`. W funkcji przechwyć wyjątki: \n",
    "\n",
    "- `TypeError` jeżeli podano niewłaściwe typy zmiennych `x` i `y`.\n",
    "- `ZeroDivisionError` jeżeli wystąpiło dzielenie przez zero.\n",
    "- Jeżeli wystąpi inny błąd wypisz komunikat `Nieznany błąd`."
   ]
  },
  {
   "cell_type": "code",
   "execution_count": 12,
   "metadata": {
    "deletable": false,
    "nbgrader": {
     "cell_type": "code",
     "checksum": "3f81e9d9b6b0d6430f625bad1401acc1",
     "grade": false,
     "grade_id": "cell-b60d08c239d85dcb",
     "locked": false,
     "schema_version": 3,
     "solution": true
    }
   },
   "outputs": [
    {
     "name": "stdout",
     "output_type": "stream",
     "text": [
      "Niewłaściwe typy danych!\n",
      "Nie da się dzielić przez 0!\n"
     ]
    },
    {
     "data": {
      "text/plain": [
       "0.4"
      ]
     },
     "execution_count": 12,
     "metadata": {},
     "output_type": "execute_result"
    }
   ],
   "source": [
    "def podziel(x,y):\n",
    "    try:\n",
    "        wynik = x/y\n",
    "        return wynik\n",
    "    except ZeroDivisionError as err:\n",
    "        print(\"Nie da się dzielić przez 0!\")\n",
    "    except TypeError as err:\n",
    "        print(\"Niewłaściwe typy danych!\")\n",
    "#raise NotImplementedError()\n",
    "podziel(2, 'a')\n",
    "podziel(2, 0)\n",
    "podziel(2, 5)"
   ]
  },
  {
   "cell_type": "markdown",
   "metadata": {
    "deletable": false,
    "editable": false,
    "nbgrader": {
     "cell_type": "markdown",
     "checksum": "e6aaa236f29f44f54734e11d46c6f462",
     "grade": false,
     "grade_id": "cell-bece87b3ef58b2a2",
     "locked": true,
     "schema_version": 3,
     "solution": false,
     "task": false
    }
   },
   "source": [
    "### Zgłaszanie wyjątków. Instrukcja `raise`. \n",
    "\n",
    "Składnia polecenia do samodzielnego zgłaszania wyjatków:\n",
    "```python \n",
    "raise wyjątek [, wartość]\n",
    "```\n",
    "\n",
    "__Uwaga:__ Taki zapis argumentu w nawiasach kwadratowych jak powyżej, __nie oznacza__, że kolejnym argumentem jest lista. Jest to przyjęta konwencja oznaczania argumentów opcjonalnych, których nie trzeba podawać przy wywoływaniu funkcji/metody.\n"
   ]
  },
  {
   "cell_type": "code",
   "execution_count": 13,
   "metadata": {},
   "outputs": [
    {
     "ename": "ValueError",
     "evalue": "Zła wartość zmiannej a",
     "output_type": "error",
     "traceback": [
      "\u001b[1;31m---------------------------------------------------------------------------\u001b[0m",
      "\u001b[1;31mValueError\u001b[0m                                Traceback (most recent call last)",
      "\u001b[1;32m~\\AppData\\Local\\Temp/ipykernel_20036/4205579338.py\u001b[0m in \u001b[0;36m<module>\u001b[1;34m\u001b[0m\n\u001b[0;32m      1\u001b[0m \u001b[0ma\u001b[0m \u001b[1;33m=\u001b[0m \u001b[1;36m0\u001b[0m\u001b[1;33m\u001b[0m\u001b[1;33m\u001b[0m\u001b[0m\n\u001b[0;32m      2\u001b[0m \u001b[1;32mif\u001b[0m \u001b[0ma\u001b[0m \u001b[1;33m==\u001b[0m \u001b[1;36m0\u001b[0m\u001b[1;33m:\u001b[0m\u001b[1;33m\u001b[0m\u001b[1;33m\u001b[0m\u001b[0m\n\u001b[1;32m----> 3\u001b[1;33m     \u001b[1;32mraise\u001b[0m \u001b[0mValueError\u001b[0m\u001b[1;33m(\u001b[0m\u001b[1;34m\"Zła wartość zmiannej a\"\u001b[0m\u001b[1;33m)\u001b[0m  \u001b[1;31m# zgłoszenie wyjątku\u001b[0m\u001b[1;33m\u001b[0m\u001b[1;33m\u001b[0m\u001b[0m\n\u001b[0m",
      "\u001b[1;31mValueError\u001b[0m: Zła wartość zmiannej a"
     ]
    }
   ],
   "source": [
    "a = 0\n",
    "if a == 0:\n",
    "    raise ValueError(\"Zła wartość zmiannej a\")  # zgłoszenie wyjątku"
   ]
  },
  {
   "cell_type": "markdown",
   "metadata": {
    "deletable": false,
    "editable": false,
    "nbgrader": {
     "cell_type": "markdown",
     "checksum": "f0d6600260f2938c30535ffcffb04316",
     "grade": false,
     "grade_id": "cell-90534c8f7c340857",
     "locked": true,
     "schema_version": 3,
     "solution": false,
     "task": false
    }
   },
   "source": [
    "Jeśli chcemy tylko zasygnalizować, że wystąpił wyjątek, ale nie chcemy go obsługiwać na danym poziomie tylko np. wyżej można użyć konstrukcji:\n",
    "\n",
    "```python\n",
    "    try:\n",
    "        wykonaj_instrukcje\n",
    "    except Error_1:\n",
    "        raise\n",
    "```"
   ]
  },
  {
   "cell_type": "code",
   "execution_count": 14,
   "metadata": {},
   "outputs": [
    {
     "name": "stdout",
     "output_type": "stream",
     "text": [
      "poziom 0\n",
      "\tpoziom 1\n",
      "\tpoziom 1: wyjątek\n",
      "poziom 0: wyjątek cześć\n"
     ]
    }
   ],
   "source": [
    "try:\n",
    "    print('poziom 0')\n",
    "    try:\n",
    "        print('\\tpoziom 1')\n",
    "        raise NameError(\"cześć\")\n",
    "    except NameError: # obsługa wyjątku\n",
    "        print('\\tpoziom 1: wyjątek')\n",
    "        raise         # zgłoszenie wyjątku do obsługi na \"poziomie 0\"\n",
    "except NameError as err:\n",
    "    print('poziom 0: wyjątek',err)"
   ]
  },
  {
   "cell_type": "markdown",
   "metadata": {
    "deletable": false,
    "editable": false,
    "nbgrader": {
     "cell_type": "markdown",
     "checksum": "5ef8b513aed0e23a4055fbb86da25bb7",
     "grade": false,
     "grade_id": "cell-fee998ec9e063ee6",
     "locked": true,
     "schema_version": 3,
     "solution": false
    }
   },
   "source": [
    "### Zgłaszanie wyjątków. Instrukcja `assert`. \n",
    "\n",
    "Składnia polecenia do samodzielnego zgłaszania wyjatków:\n",
    "```python \n",
    "assert warunek_testu [, wartość]\n",
    "```\n",
    "- Po instrukcji `assert` podajemy warunek, który chcemy testować. Opcjonalnie jako kolejny argument można podać komunikat, który zostanie wyswietlony podczas zgłaszania wyjątku. Należy wówczas `warunek_testu` objąć nawiasami.\n",
    "- Instrukcja `assert` testuje podany warunek i jeśli zwraca on `False` to zgłaszany jest wyjątek `AssertionError`.\n",
    "- Instrukcja używana do debugowania programu (wstawiania kodu debugującego)\n",
    "\n",
    "#### Przykład:"
   ]
  },
  {
   "cell_type": "code",
   "execution_count": 15,
   "metadata": {},
   "outputs": [
    {
     "ename": "AssertionError",
     "evalue": "Zła wartość zmiannej a",
     "output_type": "error",
     "traceback": [
      "\u001b[1;31m---------------------------------------------------------------------------\u001b[0m",
      "\u001b[1;31mAssertionError\u001b[0m                            Traceback (most recent call last)",
      "\u001b[1;32m~\\AppData\\Local\\Temp/ipykernel_20036/3886705809.py\u001b[0m in \u001b[0;36m<module>\u001b[1;34m\u001b[0m\n\u001b[0;32m      1\u001b[0m \u001b[0ma\u001b[0m \u001b[1;33m=\u001b[0m \u001b[1;36m0\u001b[0m\u001b[1;33m\u001b[0m\u001b[1;33m\u001b[0m\u001b[0m\n\u001b[1;32m----> 2\u001b[1;33m \u001b[1;32massert\u001b[0m \u001b[1;33m(\u001b[0m\u001b[0ma\u001b[0m \u001b[1;33m!=\u001b[0m \u001b[1;36m0\u001b[0m\u001b[1;33m)\u001b[0m\u001b[1;33m,\u001b[0m \u001b[1;34m'Zła wartość zmiannej a'\u001b[0m  \u001b[1;31m# zgłoszenie wyjątku\u001b[0m\u001b[1;33m\u001b[0m\u001b[1;33m\u001b[0m\u001b[0m\n\u001b[0m",
      "\u001b[1;31mAssertionError\u001b[0m: Zła wartość zmiannej a"
     ]
    }
   ],
   "source": [
    "a = 0\n",
    "assert (a != 0), 'Zła wartość zmiannej a'  # zgłoszenie wyjątku"
   ]
  },
  {
   "cell_type": "markdown",
   "metadata": {
    "deletable": false,
    "editable": false,
    "nbgrader": {
     "cell_type": "markdown",
     "checksum": "aafcfd8ed32d8272786f75394f3c13a1",
     "grade": false,
     "grade_id": "cell-c48377e517056671",
     "locked": true,
     "schema_version": 3,
     "solution": false,
     "task": false
    }
   },
   "source": [
    "### Wyjątki definiowane przez użytkownika. \n",
    "\n",
    "Można tworzyć swoje wyjątki poprzez utworzenie nowej klasy wyjątku (pochodna klasy `Exception`)\n",
    "- klasy związane z wyjątkami mogą być typowymi klasami, ale staramy się aby były raczej proste (zwykle oferują pewne atrybuty zawierające informacje nt. błędu)."
   ]
  },
  {
   "cell_type": "code",
   "execution_count": 16,
   "metadata": {},
   "outputs": [
    {
     "name": "stdout",
     "output_type": "stream",
     "text": [
      "Wystąpił mój wyjątek, wartość:  4\n"
     ]
    }
   ],
   "source": [
    "class MyError(Exception):\n",
    "    def __init__(self, value):\n",
    "        self.value = value\n",
    "    def __str__(self):\n",
    "        return repr(self.value) \n",
    "    \n",
    "try:\n",
    "    raise MyError(2*2)\n",
    "except MyError as err:\n",
    "    print('Wystąpił mój wyjątek, wartość: ', err.value)\n",
    "    \n",
    "#raise MyError('upss!')"
   ]
  },
  {
   "cell_type": "markdown",
   "metadata": {
    "deletable": false,
    "editable": false,
    "nbgrader": {
     "cell_type": "markdown",
     "checksum": "5087f94656a42ed88d5462f32b9cd309",
     "grade": false,
     "grade_id": "cell-264e0ef827d24c17",
     "locked": true,
     "schema_version": 3,
     "solution": false,
     "task": false
    }
   },
   "source": [
    "- tworząc moduł obsługujący wiele różnych błędów przyjętą praktyką jest utworzenie klasy bazowej dla wszystkich zgłaszanych przez moduł wyjątków i specyficznych podklas dla różnych sytuacji wyjątkowych\n",
    "\n",
    "\n",
    "\n",
    "```python\n",
    "class Error(Exception):\n",
    "    \"\"\"Base class for exceptions in this module.\"\"\"\n",
    "    pass\n",
    "\n",
    "class InputError(Error):\n",
    "    \"\"\"Exception raised for errors in the input.\n",
    "\n",
    "    Attributes:\n",
    "        expression -- input expression in which the error occurred\n",
    "        message -- explanation of the error\n",
    "    \"\"\"\n",
    "\n",
    "    def __init__(self, expression, message):\n",
    "        self.expression = expression\n",
    "        self.message = message\n",
    "\n",
    "class TransitionError(Error):\n",
    "    \"\"\"Raised when an operation attempts a state transition that's not allowed.\n",
    "\n",
    "    Attributes:\n",
    "        previous -- state at beginning of transition\n",
    "        next -- attempted new state\n",
    "        message -- explanation of why the specific transition is not allowed\n",
    "    \"\"\"\n",
    "\n",
    "    def __init__(self, previous, next, message):\n",
    "        self.previous = previous\n",
    "        self.next = next\n",
    "        self.message = message\n",
    "```"
   ]
  },
  {
   "cell_type": "markdown",
   "metadata": {
    "deletable": false,
    "editable": false,
    "nbgrader": {
     "cell_type": "markdown",
     "checksum": "82d91868678bd4a93b7a4b1ecd967b36",
     "grade": false,
     "grade_id": "cell-c1b64a85121f92f0",
     "locked": true,
     "schema_version": 3,
     "solution": false,
     "task": false
    }
   },
   "source": [
    "Klauzula `except` instrukcji `try` może zawierać również listę klas.\n",
    "\n",
    "Klasa w klauzuli `except` odpowiada zgłoszonemu wyjątkowi jeśli jest __tą samą klasą__ lub __klasą bazową__  (i nie inaczej - lista klas pochodnych w klauzuli except nie odpowiada wyjątkom, które są ich klasami bazowymi).\n",
    "\n",
    "Wynikiem przykładowego kodu będzie `B,C,D` (jeśli klauzula `except` byłaby odwrócona (tzn. `except B:` na pierwszym miejscu), program  wyświetliłby `B, B, B` - uruchamiany jest kod pierwszej pasującej klauzuli)"
   ]
  },
  {
   "cell_type": "code",
   "execution_count": 17,
   "metadata": {},
   "outputs": [
    {
     "name": "stdout",
     "output_type": "stream",
     "text": [
      "B\n",
      "C\n",
      "D\n"
     ]
    }
   ],
   "source": [
    "class B(Exception): # klasa bazowa dla zgłaszanych w module wyjątków\n",
    "    pass\n",
    "\n",
    "class C(B):\n",
    "    pass\n",
    "\n",
    "class D(C):\n",
    "    pass\n",
    "\n",
    "for cls in [B, C, D]:\n",
    "    \n",
    "    try:\n",
    "        raise cls()\n",
    "    except D:\n",
    "        print(\"D\")\n",
    "    except C:\n",
    "        print(\"C\")\n",
    "    except B:\n",
    "        print(\"B\")"
   ]
  },
  {
   "cell_type": "markdown",
   "metadata": {
    "deletable": false,
    "editable": false,
    "nbgrader": {
     "cell_type": "markdown",
     "checksum": "9b7768a893c76928d0435acd4289dcf2",
     "grade": false,
     "grade_id": "cell-e8f0fee5edaeafc1",
     "locked": true,
     "schema_version": 3,
     "solution": false
    }
   },
   "source": [
    "## Zadanie 1\n",
    "\n",
    "Utwórzy klasy wyjątków `ZlyNominalException`, `NieznanaWalutaException` oraz `UderzylesSieWPalecException`.\n",
    "\n",
    "Dodaj obsługę wyjątków:\n",
    "- Do konstruktora klasy Moneta z laboratorium 06 – jeśli nominał monety nie jest jednym z dozwolonych, zgłoszony powinien być wyjątek `ZłyNominalException`.\n",
    "- Do funkcji pozwalającej na wrzucenie monety w klasie `Skarbonka` (lab.6 zadanie 3) – jeśli użytkownik wrzuca monetę innej waluty niż obsługiwana, to zgłoszony powinien być wyjątek `NieznanaWalutaException`.\n",
    "- Dodaj do klasy `Skarbonka` funkcję `rozbij()` (ps. ze skarbonki nie można wyjąć pojedynczej monety) usuwającą ze skarbonki wszystkie monety, ustawiającą pole `rozbita` na `True` oraz zwracającą monety. Do rozbitej skarbonki nie można wrzucać monet. Podczas rozbijania skarbonki jest szansa 1:10 na uderzenie swojego palca zamiast skarbonki - w takim wypadku zgłaszony jest wyjątek `UderzyłesSieWPalecException`.\n",
    "\n",
    "\n",
    "https://docs.python.org/3/tutorial/errors.html#raising-exceptions\n",
    "https://docs.python.org/3/tutorial/errors.html#user-defined-exceptions"
   ]
  },
  {
   "cell_type": "code",
   "execution_count": 4,
   "metadata": {
    "deletable": false,
    "nbgrader": {
     "cell_type": "code",
     "checksum": "b81d77ef3e3831026e681f8f18f7c058",
     "grade": true,
     "grade_id": "cell-07002b2861d7761e",
     "locked": false,
     "points": 1,
     "schema_version": 3,
     "solution": true
    }
   },
   "outputs": [
    {
     "name": "stdout",
     "output_type": "stream",
     "text": [
      "Zgłoszono wyjątek: Podano nieprawidłowy nominał!\n",
      "Zgłoszono wyjątek: Nieznana waluta!\n"
     ]
    }
   ],
   "source": [
    "from decimal import *\n",
    "import random\n",
    "getcontext().prec = 8\n",
    "\n",
    "class ZlyNominalException(Exception):\n",
    "    def __init__(self, value):\n",
    "        self.value = value\n",
    "    def __str__(self):\n",
    "        return repr(self.value)\n",
    "\n",
    "class Moneta():\n",
    "    def __init__(self, new_value, new_currency):\n",
    "        self._currency = new_currency\n",
    "        try:\n",
    "            if new_value in [0.01, 0.02, 0.05, 0.1, 0.2, 0.5, 1, 2, 5]:\n",
    "                self._value = Decimal(new_value)\n",
    "            else:\n",
    "                self._value = 0\n",
    "                raise ZlyNominalException(\"Podano nieprawidłowy nominał!\")\n",
    "        except ZlyNominalException as myErr:\n",
    "            print('Zgłoszono wyjątek:',myErr.value)\n",
    "        \n",
    "    def pobierz_wartosc(self):\n",
    "        return self._value\n",
    "\n",
    "    def pobierz_walute(self):\n",
    "        return self._currency\n",
    "            \n",
    "m = Moneta(0.3,\"PLN\")\n",
    "\n",
    "class NieznanaWalutaException(Exception):\n",
    "    def __init__(self, value):\n",
    "        self.value = value\n",
    "    def __str__(self):\n",
    "        return repr(self.value)\n",
    "    \n",
    "class UderzyłesSieWPalecException(Exception):\n",
    "    def __init__(self, value):\n",
    "        self.value = value\n",
    "    def __str__(self):\n",
    "        return repr(self.value)\n",
    "\n",
    "class Skarbonka():\n",
    "    def __init__(self):\n",
    "        self._coins = []\n",
    "        self._currency = \"EUR\"\n",
    "        self.rozbita = False\n",
    "\n",
    "    def dodaj_monete(self, coin : Moneta):\n",
    "        if isinstance(coin, Moneta):\n",
    "            try:\n",
    "                if coin.pobierz_walute() == self._currency:\n",
    "                    self._coins.append(coin)\n",
    "                else:\n",
    "                    raise NieznanaWalutaException(\"Nieznana waluta!\")\n",
    "            except NieznanaWalutaException as myErr:\n",
    "                print(\"Zgłoszono wyjątek:\", myErr.value)\n",
    "        else:\n",
    "            print(\"Przesłany obiekt nie jest monetą!\") \n",
    "    \n",
    "    def zwroc_monete(self, coin):\n",
    "        for c in self._coins:\n",
    "            if c.pobierz_wartosc() != coin:\n",
    "                print(\"Nie ma takiej monety!\")\n",
    "            if len(self._coins) == 1:\n",
    "                print(\"Nie można wyciągnąć pojedynczej monety!\")\n",
    "            else:\n",
    "                self._coins.remove(c)\n",
    "                return c.pobierz_wartosc()\n",
    "            \n",
    "    def rozbij(self):\n",
    "        if len(self._coins) == 1:\n",
    "                return \"Nie można wyciągnąć pojedynczej monety\"\n",
    "        p_uderzenie = random.randrange(10)\n",
    "        try:\n",
    "            if p_uderzenie == 1:\n",
    "                raise UderzyłesSieWPalecException(\"Uderzyłeś sie w palec!\")\n",
    "            else:\n",
    "                for c in self._coins:\n",
    "                    print(c,\", \")\n",
    "        except UderzyłesSieWPalecException as myErr:\n",
    "            return myErr.value\n",
    "        \n",
    "sk = Skarbonka()\n",
    "sk.dodaj_monete(m)\n",
    "sk.rozbij()\n",
    "#raise NotImplementedError()"
   ]
  },
  {
   "cell_type": "markdown",
   "metadata": {
    "deletable": false,
    "editable": false,
    "nbgrader": {
     "cell_type": "markdown",
     "checksum": "bcbdcdec34ee81d7c364a25e96a0cdb0",
     "grade": false,
     "grade_id": "cell-9a0be2fbb9c21bf3",
     "locked": true,
     "schema_version": 3,
     "solution": false
    }
   },
   "source": [
    "## Zadanie 2\n",
    "Do klasy Moneta dodaj metody:\n",
    "- `__str__()` zwracającą opis danej monety – czytelne informacje dla użytkownika (w tym jej wartość i walutę),\n",
    "- `__repr__()` zwracającą tekstową reprezentację monety – informacje do debugowania, które po skopiowaniu i wklejeniu do interpretera utworzą identyczny obiekt klasy Moneta.\n",
    "\n",
    "Która metoda zostanie wywołana dla `str(Moneta(2,'PLN'))`?\n",
    "\n",
    "Która metoda zostanie wywołana dla `repr(Moneta(5,'PLN'))`?\n",
    "\n",
    "Co zostanie wypisane dla `str([Moneta(1,'PLN'), Moneta(1,'PLN'), Moneta(2,'PLN')])`?\n",
    "\n",
    "Co zostanie wypisane dla `repr([Moneta(1,'PLN'), Moneta(1,'PLN'), Moneta(2,'PLN')])`?\n",
    "\n"
   ]
  },
  {
   "cell_type": "code",
   "execution_count": 5,
   "metadata": {
    "deletable": false,
    "nbgrader": {
     "cell_type": "code",
     "checksum": "a621cd80665fbae367cd562f810e246a",
     "grade": true,
     "grade_id": "cell-4e9dc8765382deaf",
     "locked": false,
     "points": 1,
     "schema_version": 3,
     "solution": true
    }
   },
   "outputs": [
    {
     "name": "stdout",
     "output_type": "stream",
     "text": [
      "Moneta, wartość: 2, waluta: PLN\n",
      "Moneta 5\n",
      "[Moneta 1, Moneta 1, Moneta 2]\n",
      "[Moneta 1, Moneta 1, Moneta 2]\n"
     ]
    }
   ],
   "source": [
    "from decimal import *\n",
    "getcontext().prec = 8\n",
    "values = [0.01, 0.02, 0.05, 0.1, 0.2, 0.5, 1, 2, 5]\n",
    "\n",
    "class Moneta():\n",
    "    def __init__(self, new_value, new_currency):\n",
    "        self._currency = new_currency\n",
    "        if new_value in values:\n",
    "            self._value = Decimal(new_value)\n",
    "        else:\n",
    "            self._value = 0\n",
    "\n",
    "    def pobierz_wartosc(self):\n",
    "        return self._value\n",
    "\n",
    "    def pobierz_walute(self):\n",
    "        return self._currency\n",
    "    \n",
    "    def __str__(self): \n",
    "        return 'Moneta, wartość: {}, waluta: {}'.format(self._value, self._currency)\n",
    "    \n",
    "    def __repr__(self): \n",
    "        return 'Moneta {}'.format(self._value)\n",
    "\n",
    "    \n",
    "print(str(Moneta(2,'PLN')))\n",
    "print(repr(Moneta(5,'PLN')))\n",
    "print(str([Moneta(1,'PLN'), Moneta(1,'PLN'), Moneta(2,'PLN')]))\n",
    "print(repr([Moneta(1,'PLN'), Moneta(1,'PLN'), Moneta(2,'PLN')]))\n",
    "#raise NotImplementedError()"
   ]
  },
  {
   "cell_type": "markdown",
   "metadata": {
    "deletable": false,
    "editable": false,
    "nbgrader": {
     "cell_type": "markdown",
     "checksum": "e48c8b82c7ae0bfddf18e77dc1fb4e5c",
     "grade": false,
     "grade_id": "cell-c12f33b297cd92a6",
     "locked": true,
     "schema_version": 3,
     "solution": false
    }
   },
   "source": [
    "## Zadanie 3\n",
    "Napisz funkcję ładującą listę monet z pliku `csv`, którego format jest następujący:\n",
    "\n",
    "`[nominał],[liczba monet danego nominału]`\n",
    "\n",
    "Utwórz klasę wyjątku `ListaMonetException` przechowującą listę monet - wyjątek ten będzie używany do zwracania tych monet, które udało się wczytać z pliku, klasę `ZlyFormatPlikuException` dziedziczącą po niej, oraz zmodyfikuj `ZlyNominalException` tak, aby też dziedziczył po `ListaMonetException`.\n",
    "\n",
    "W funkcji wczytującej utwórz pustą listę. Następnie w bloku `try` otwórz plik, wczytaj każdą linię i podziel ją przy pomocy metody `split`. Utwórz obiekty klasy `Moneta` o odczytanym nominale i dodaj je do listy. \n",
    "\n",
    "Jeśli w linii jest inna liczba wartości niż 2, rzuć wyjątek `ZlyFormatPlikuException` z pustą listą. \n",
    "\n",
    "Jeśli w pliku jest moneta o nieobsługiwanym nominale, rzuć wyjątek `ZlyNominalException` z listą wczytanych monet. \n",
    "\n",
    "Jeśli w trakcie działania funkcji został rzucony dowolny wyjątek, przekaż go dalej. W przeciwnym razie wypisz informację o poprawnym wczytaniu, posortuj monety po nominale rosnąco i zwróć listę wczytanych monet (wykorzystaj `else` dla `try`). Pamiętaj o zamknięciu pliku (wykorzystaj `finally`).\n",
    "\n",
    "Przykładowy plik zawierający 6+4 monet o nominale 1zł, 14 monet o nominale 2zł i 3 monety o nominale 5zł:\n",
    "\n",
    "1,6\n",
    "\n",
    "2,14\n",
    "\n",
    "1,4\n",
    "\n",
    "5,3\n",
    "\n",
    "\n",
    "Jaki wyjątek jest rzucany przy próbie otwarcia nieistniejącego pliku?\n",
    "\n",
    "https://docs.python.org/3/library/csv.html?highlight=import%20csv\n",
    "\n",
    "https://docs.python.org/3/tutorial/errors.html#defining-clean-up-actions\n"
   ]
  },
  {
   "cell_type": "code",
   "execution_count": 6,
   "metadata": {
    "deletable": false,
    "nbgrader": {
     "cell_type": "code",
     "checksum": "bcf44c536743e9cd6f8a5c840780fb28",
     "grade": true,
     "grade_id": "cell-f9abfb50896389c7",
     "locked": false,
     "points": 1,
     "schema_version": 3,
     "solution": true
    }
   },
   "outputs": [
    {
     "name": "stdout",
     "output_type": "stream",
     "text": [
      "Monety wczytano poprawnie!\n",
      "Moneta, wartość: 1, waluta: PLN\n",
      "Moneta, wartość: 1, waluta: PLN\n",
      "Moneta, wartość: 1, waluta: PLN\n",
      "Moneta, wartość: 1, waluta: PLN\n",
      "Moneta, wartość: 1, waluta: PLN\n",
      "Moneta, wartość: 1, waluta: PLN\n",
      "Moneta, wartość: 1, waluta: PLN\n",
      "Moneta, wartość: 1, waluta: PLN\n",
      "Moneta, wartość: 1, waluta: PLN\n",
      "Moneta, wartość: 1, waluta: PLN\n",
      "Moneta, wartość: 2, waluta: PLN\n",
      "Moneta, wartość: 2, waluta: PLN\n",
      "Moneta, wartość: 2, waluta: PLN\n",
      "Moneta, wartość: 2, waluta: PLN\n",
      "Moneta, wartość: 2, waluta: PLN\n",
      "Moneta, wartość: 2, waluta: PLN\n",
      "Moneta, wartość: 2, waluta: PLN\n",
      "Moneta, wartość: 2, waluta: PLN\n",
      "Moneta, wartość: 2, waluta: PLN\n",
      "Moneta, wartość: 2, waluta: PLN\n",
      "Moneta, wartość: 2, waluta: PLN\n",
      "Moneta, wartość: 2, waluta: PLN\n",
      "Moneta, wartość: 2, waluta: PLN\n",
      "Moneta, wartość: 2, waluta: PLN\n",
      "Moneta, wartość: 5, waluta: PLN\n",
      "Moneta, wartość: 5, waluta: PLN\n",
      "Moneta, wartość: 5, waluta: PLN\n"
     ]
    }
   ],
   "source": [
    "class ListaMonetException(Exception):\n",
    "    #_coins = []\n",
    "    pass\n",
    "    \n",
    "class ZlyFormatPlikuException(ListaMonetException):\n",
    "    def __init__(self, value):\n",
    "        self.value = value\n",
    "    def __str__(self):\n",
    "        return repr(self.value)\n",
    "    \n",
    "class ZlyNominalException(ListaMonetException):\n",
    "    def __init__(self, value):\n",
    "        self.value = value\n",
    "    def __str__(self):\n",
    "        return repr(self.value)\n",
    "\n",
    "def load_coins():\n",
    "    ListaMonetException._coins = []\n",
    "    try:\n",
    "        file = open('monety.csv', 'r')\n",
    "        for line in file:\n",
    "            coin = line.split(',',1)\n",
    "            val = float(coin[0])\n",
    "            if len(coin) != 2 or coin[1] == '' or coin[1] == '\\n' or int(coin[1]) < 0:\n",
    "                raise ZlyFormatPlikuException(\"Niepoprawny format pliku!\")\n",
    "            elif val not in [0.01, 0.02, 0.05, 0.1, 0.2, 0.5, 1, 2, 5]:\n",
    "                raise ZlyNominalException(\"Nieobsługiwany nominał!\")\n",
    "            else:  \n",
    "                for i in range(int(coin[1])):\n",
    "                    ListaMonetException._coins.append(Moneta(val, \"PLN\"))\n",
    "    except ZlyFormatPlikuException as err1:\n",
    "        print(\"wyjątek:\", err1.value)\n",
    "    except ZlyNominalException as err2:\n",
    "        print(\"wyjątek:\", err2.value)\n",
    "    else:\n",
    "        print(\"Monety wczytano poprawnie!\")\n",
    "        ListaMonetException._coins.sort(key=lambda coin: coin._value)\n",
    "        for coin in ListaMonetException._coins:\n",
    "            print(coin)\n",
    "    finally:\n",
    "        file.close()\n",
    "\n",
    "load_coins()\n",
    "#raise NotImplementedError()"
   ]
  },
  {
   "cell_type": "markdown",
   "metadata": {
    "deletable": false,
    "editable": false,
    "nbgrader": {
     "cell_type": "markdown",
     "checksum": "6ce0a5016841f7521671ed61223acbff",
     "grade": false,
     "grade_id": "cell-7083f6bf70bee9b3",
     "locked": true,
     "schema_version": 3,
     "solution": false,
     "task": false
    }
   },
   "source": [
    "## Zadanie 4\n",
    "Utwórz obiekt skarbonki. Zmodyfikuj funkcję z zadania 3 tak, aby do wczytywania linii z pliku wykorzystała konstrukcję `with ... as ...:`. Napisz funkcję wczytującą listę monet z pliku `monety.csv`. Jeśli podczas odczytywania zostanie rzucony dowolny wyjątek, wypisz na ekran wiadomość `\"Problem ze wczytaniem listy monet\"` i przerwij działanie programu. W przeciwnym razie wrzuć wczytane monety do skarbonki i ją rozbij. Jeśli uderzysz się w palec, otwórz plik `pamiętnik.txt` i dopisz do niego aktualną datę, czas (`moduł datetime`) i wiadomość `\"Drogi pamiętniczku, mój palec znowu napotkał młotek na swej drodze. Bolało.\"`. Wykorzystaj jeden blok `try`.\n",
    "\n",
    "https://docs.python.org/3/tutorial/errors.html#predefined-clean-up-actions\n",
    "\n",
    "https://docs.python.org/3/library/datetime.html?highlight=import%20datetime"
   ]
  },
  {
   "cell_type": "code",
   "execution_count": 312,
   "metadata": {
    "deletable": false,
    "nbgrader": {
     "cell_type": "code",
     "checksum": "19c885cb172830c33a1a9001190e1c4b",
     "grade": true,
     "grade_id": "cell-fb77ca19bb2b3d52",
     "locked": false,
     "points": 1,
     "schema_version": 3,
     "solution": true,
     "task": false
    }
   },
   "outputs": [
    {
     "name": "stdout",
     "output_type": "stream",
     "text": [
      "Uderzyłeś się w palec!\n"
     ]
    }
   ],
   "source": [
    "import datetime\n",
    "sk = Skarbonka()\n",
    "\n",
    "def load_coins(): \n",
    "    try:\n",
    "        with open('monety.csv', 'r') as file:\n",
    "            for line in file:\n",
    "                coin = line.split(',',1)\n",
    "                val = float(coin[0])\n",
    "                if len(coin) != 2 or coin[1] == '' or coin[1] == '\\n' or int(coin[1]) < 0:\n",
    "                    raise ZlyFormatPlikuException(\"Niepoprawny format pliku!\")\n",
    "                elif val not in [0.01, 0.02, 0.05, 0.1, 0.2, 0.5, 1, 2, 5]:\n",
    "                    raise ZlyNominalException(\"Nieobsługiwany nominał!\")\n",
    "                else:\n",
    "                    for i in range(int(coin[1])):\n",
    "                        sk.dodaj_monete(Moneta(val, \"EUR\"))\n",
    "            if sk.rozbij() == \"Uderzyłeś sie w palec!\":\n",
    "                with open('pamietnik.txt','a',encoding='utf-8') as pam:\n",
    "                    print(\"Uderzyłeś się w palec!\")\n",
    "                    new_content = '\\n' + str(datetime.datetime.now()) + \" Drogi pamiętniczku, mój palec znowu napotkał młotek na swej drodze. Bolało.\"\n",
    "                    pam.write(new_content)\n",
    "    except ZlyFormatPlikuException or ZlyNominalException as err:\n",
    "        return \"Problem ze wczytaniem listy monet\"     \n",
    "\n",
    "load_coins()\n",
    "#raise NotImplementedError()"
   ]
  },
  {
   "cell_type": "code",
   "execution_count": null,
   "metadata": {},
   "outputs": [],
   "source": []
  },
  {
   "cell_type": "code",
   "execution_count": null,
   "metadata": {},
   "outputs": [],
   "source": []
  }
 ],
 "metadata": {
  "kernelspec": {
   "display_name": "Python 3 (ipykernel)",
   "language": "python",
   "name": "python3"
  },
  "language_info": {
   "codemirror_mode": {
    "name": "ipython",
    "version": 3
   },
   "file_extension": ".py",
   "mimetype": "text/x-python",
   "name": "python",
   "nbconvert_exporter": "python",
   "pygments_lexer": "ipython3",
   "version": "3.9.7"
  }
 },
 "nbformat": 4,
 "nbformat_minor": 2
}
